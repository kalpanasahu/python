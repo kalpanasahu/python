{
 "cells": [
  {
   "cell_type": "markdown",
   "metadata": {
    "id": "kJY7QD40vrm-"
   },
   "source": [
    "# Exercise Sheet 1.0 - Text Processing with Python\n"
   ]
  },
  {
   "cell_type": "markdown",
   "metadata": {
    "id": "RJYUWq73vsk2"
   },
   "source": [
    "## Learning Objectives\n",
    "\n",
    "The motivation of this exercise is to gain familiarity with the Python programming language. We are going to do some basic text processing and analysis on a plaintext corpus. If you are not with familiar Python or Jupyter notebooks, it is recommended to start with the Python Tutorial notebook before attempting this exercise.\n",
    "\n",
    "---\n"
   ]
  },
  {
   "cell_type": "markdown",
   "metadata": {
    "id": "HLuuYUPQrvNk"
   },
   "source": [
    "## Exercise 0\n",
    "\n",
    "For this exercise, we are going to count the 25 most frequent words in **Alice’s Adventures in Wonderland** by Lewis Carroll. You are free to use any other piece of text of your choice for this exercise. This notebook contains step by step instructions (with some hints) and you are required to fill in the code blocks based on the material covered in the Python Tutorial notebook."
   ]
  },
  {
   "cell_type": "markdown",
   "metadata": {
    "id": "T48PL4payl55"
   },
   "source": [
    "### 0. Download the text file.\n",
    "Run the cell below to download the book **Alice’s Adventures in Wonderland** as a text file from [Project Gutenberg](http://www.gutenberg.org), and save into a file called `alice.txt`."
   ]
  },
  {
   "cell_type": "code",
   "execution_count": 93,
   "metadata": {
    "id": "nW1cmwsAfXh9"
   },
   "outputs": [
    {
     "name": "stdout",
     "output_type": "stream",
     "text": [
      "  % Total    % Received % Xferd  Average Speed   Time    Time     Time  Current\n",
      "                                 Dload  Upload   Total   Spent    Left  Speed\n",
      "100  170k  100  170k    0     0   217k      0 --:--:-- --:--:-- --:--:--  217k\n"
     ]
    }
   ],
   "source": [
    "!curl https://www.gutenberg.org/files/11/11-0.txt > alice.txt"
   ]
  },
  {
   "cell_type": "markdown",
   "metadata": {
    "id": "bSRMWLlFfp22"
   },
   "source": [
    "---\n",
    "### 1. Read text from file.\n",
    "Open the text file `alice.txt` and read all the lines into a list."
   ]
  },
  {
   "cell_type": "code",
   "execution_count": 94,
   "metadata": {
    "id": "QOshGZfAfhA1"
   },
   "outputs": [],
   "source": [
    "#####################################################\n",
    "# TO DO\n",
    "# Read lines from alice.txt and,\n",
    "# save the lines in a list.\n",
    "#####################################################\n",
    "# Type your code below this line\n",
    "lines = []\n",
    "with open('alice.txt',mode = \"r\", encoding = \"utf-8\") as f:\n",
    "    lines = f.readlines()\n",
    "    "
   ]
  },
  {
   "cell_type": "code",
   "execution_count": 95,
   "metadata": {},
   "outputs": [
    {
     "name": "stdout",
     "output_type": "stream",
     "text": [
      "3761\n"
     ]
    }
   ],
   "source": [
    "print(len(lines))"
   ]
  },
  {
   "cell_type": "markdown",
   "metadata": {
    "id": "CHWe4GdSoOAd"
   },
   "source": [
    "#### Hint:"
   ]
  },
  {
   "cell_type": "markdown",
   "metadata": {
    "id": "sdF0W047oQ3T"
   },
   "source": [
    "The `open()` function can be used to read the file."
   ]
  },
  {
   "cell_type": "markdown",
   "metadata": {
    "id": "Dt9qAKiVhH2m"
   },
   "source": [
    "---\n",
    "### 2. Filter out the metadata.\n",
    "The text file contains some metadata about the book which is not relevant for our analysis. Discard this information by removing the first 54 lines from the beginning and the last 356 lines from the end."
   ]
  },
  {
   "cell_type": "code",
   "execution_count": 96,
   "metadata": {
    "id": "YwnNTTxUhFkE"
   },
   "outputs": [],
   "source": [
    "#############################################################\n",
    "# TO DO\n",
    "# From the text, remove the first 54 lines from the beginning.\n",
    "# Remove the last 356 lines at the end.\n",
    "#############################################################\n",
    "# Type your code below this line\n",
    "line_54 = []\n",
    "line_54 = lines[54:len(lines)-356]\n"
   ]
  },
  {
   "cell_type": "code",
   "execution_count": 97,
   "metadata": {},
   "outputs": [
    {
     "name": "stdout",
     "output_type": "stream",
     "text": [
      "3351\n"
     ]
    }
   ],
   "source": [
    "print(len(line_54))"
   ]
  },
  {
   "cell_type": "markdown",
   "metadata": {
    "id": "B99yzJaJom24"
   },
   "source": [
    "#### Hint:"
   ]
  },
  {
   "cell_type": "markdown",
   "metadata": {
    "id": "DTTB9bIVools"
   },
   "source": [
    "Use index slicing to select the required lines."
   ]
  },
  {
   "cell_type": "markdown",
   "metadata": {
    "id": "MTvlIw-whuwy"
   },
   "source": [
    "---\n",
    "### 3. Remove leading and trailing spaces from each line in the list.\n",
    "Each line contains a newline character `\\n` at the end while some lines also contain leading and trailing spaces. This formatting is done for presentation purposes and not relevant for our analysis."
   ]
  },
  {
   "cell_type": "code",
   "execution_count": 98,
   "metadata": {
    "id": "UYdh18lHgsj0"
   },
   "outputs": [],
   "source": [
    "#############################################################\n",
    "# TO DO\n",
    "# store the lines in this list after removing the leading and\n",
    "# trailing spaces\n",
    "#############################################################\n",
    "# Type your code below this line\n",
    "line_54_lst = []\n",
    "for line in line_54:\n",
    "    lines_54_s = line.strip()\n",
    "    line_54_lst.append(lines_54_s)"
   ]
  },
  {
   "cell_type": "markdown",
   "metadata": {
    "id": "40T7EUhKo3uI"
   },
   "source": [
    "#### Hint:"
   ]
  },
  {
   "cell_type": "code",
   "execution_count": 99,
   "metadata": {},
   "outputs": [
    {
     "name": "stdout",
     "output_type": "stream",
     "text": [
      "3351\n"
     ]
    }
   ],
   "source": [
    "print(len(line_54_lst))"
   ]
  },
  {
   "cell_type": "markdown",
   "metadata": {
    "id": "NBfWbLUho5Sn"
   },
   "source": [
    "The `strip()` function can be used to remove leading and trailing spaces."
   ]
  },
  {
   "cell_type": "markdown",
   "metadata": {
    "id": "nSu406W9iqMo"
   },
   "source": [
    "---\n",
    "### 4. Remove empty lines from the list.\n",
    "After removing the newline character `\\n` from each line in the list, some strings are now empty and can be discarded safely."
   ]
  },
  {
   "cell_type": "code",
   "execution_count": 100,
   "metadata": {
    "id": "-1djnrvHh2kc"
   },
   "outputs": [],
   "source": [
    "#############################################################\n",
    "# TO DO\n",
    "# store non empty lines in this list\n",
    "#############################################################\n",
    "# Type your code below this line\n",
    "new_lst = []\n",
    "for line in trailed_list:\n",
    "    if line != '' or line != \"\":\n",
    "        new_lst.append(line)\n"
   ]
  },
  {
   "cell_type": "code",
   "execution_count": 101,
   "metadata": {},
   "outputs": [
    {
     "name": "stdout",
     "output_type": "stream",
     "text": [
      "1077\n"
     ]
    }
   ],
   "source": [
    "print(len(new_lst))"
   ]
  },
  {
   "cell_type": "markdown",
   "metadata": {
    "id": "lTrgIRNmpQZA"
   },
   "source": [
    "#### Hint:"
   ]
  },
  {
   "cell_type": "markdown",
   "metadata": {
    "id": "2wj2Oc7vpRuc"
   },
   "source": [
    "An empty string in Python is represented by `''` or `\"\"`."
   ]
  },
  {
   "cell_type": "markdown",
   "metadata": {
    "id": "VNCnBgL-jNe1"
   },
   "source": [
    "---\n",
    "### 5. Join all the non empty lines into a single string.\n",
    "Now that we have cleaned the corpus by removing some editorial details and formatting, we can focus on the actual text. Create a single string which contains all the lines from the text.\n",
    "\n"
   ]
  },
  {
   "cell_type": "code",
   "execution_count": 102,
   "metadata": {
    "id": "iED8UQpciCv7"
   },
   "outputs": [],
   "source": [
    "#############################################################\n",
    "# TO DO\n",
    "# Join all the lines into a string\n",
    "#############################################################\n",
    "# Type your code below this line\n",
    "new_string = ' '.join(filter(None, new_lst))"
   ]
  },
  {
   "cell_type": "markdown",
   "metadata": {
    "id": "5CddBuKbqLOP"
   },
   "source": [
    "#### Hint:"
   ]
  },
  {
   "cell_type": "code",
   "execution_count": 103,
   "metadata": {},
   "outputs": [
    {
     "name": "stdout",
     "output_type": "stream",
     "text": [
      "62555\n"
     ]
    }
   ],
   "source": [
    "print(len(new_string))"
   ]
  },
  {
   "cell_type": "markdown",
   "metadata": {
    "id": "ib-zeFqsqOMP"
   },
   "source": [
    "The `join` function can be used to join a list of strings into a single string."
   ]
  },
  {
   "cell_type": "markdown",
   "metadata": {
    "id": "Vxri7Uw_keFd"
   },
   "source": [
    "---\n",
    "### 6. Convert to lowercase\n",
    "To keep the word counts consistent, we are going to covert everything lowercase. If we don't do this, the words `the`, `The` and `THE` would be considered distinct.  "
   ]
  },
  {
   "cell_type": "code",
   "execution_count": 104,
   "metadata": {
    "id": "dy8tLkbqj2mw"
   },
   "outputs": [
    {
     "data": {
      "text/plain": [
       "'top of the house!” (which was very likely true.) down, down, down. would the fall _never_ come to an end? “i wonder how getting somewhere near the centre of the earth. let me see: that would several things of this sort in her lessons in the schoolroom, and knowledge, as there was no one to listen to her, still it was good then i wonder what latitude or longitude i’ve got to?” (alice had no grand words to say.) presently she began again. “i wonder if i shall fall right _through_ with their heads downward! the antipathies, i think—” (she was rather the right word) “—but i shall have to ask them what the name of the (and she tried to curtsey as she spoke—fancy _curtseying_ as you’re an ignorant little girl she’ll think me for asking! no, it’ll never do talking again. “dinah’ll miss me very much to-night, i should think!” tea-time. dinah my dear! i wish you were down here with me! there are very like a mouse, you know. but do cats eat bats, i wonder?” and here dreamy sort of way, “do cats eat bats? do cats eat bats?” and either question, it didn’t much matter which way she put it. she felt walking hand in hand with dinah, and saying to her very earnestly, thump! thump! down she came upon a heap of sticks and dry leaves, and she looked up, but it was all dark overhead; before her was another it. there was not a moment to be lost: away went alice like the wind, and whiskers, how late it’s getting!” she was close behind it when she herself in a long, low hall, which was lit up by a row of lamps hanging alice had been all the way down one side and up the other, trying every get out again. suddenly she came upon a little three-legged table, all made of solid first thought was that it might belong to one of the doors of the hall; but at any rate it would not open any of them. however, on the second behind it was a little door about fifteen inches high: she tried the much larger than a rat-hole: she knelt down and looked along the out of that dark hall, and wander about among those beds of bright through the doorway; “and even if my head would go through,” thought how i wish i could shut up like a telescope! i think i could, if i only happened lately, that alice had begun to think that very few things back to the table, half hoping she might find another key on it, or at time she found a little bottle on it, (“which certainly was not here label, with the words “drink me,” beautifully printed on it in large not going to do _that_ in a hurry. “no, i’ll look first,” she said, several nice little histories about children who had got burnt, and _would_ not remember the simple rules their friends had taught them: and that if you cut your finger _very_ deeply with a knife, it usually bottle marked “poison,” it is almost certain to disagree with you, taste it, and finding it very nice, (it had, in fact, a sort of mixed hot buttered toast,) she very soon finished it off. *      *      *      *      *      *      * *      *      *      *      *      * *      *      *      *      *      *      * telescope.” and so it was indeed: she was now only ten inches high, and her face through the little door into that lovely garden. first, however, she she felt a little nervous about this; “for it might end, you know,” wonder what i should be like then?” and she tried to fancy what the not remember ever having seen such a thing. after a while, finding that nothing more happened, she decided on going door, she found she had forgotten the little golden key, and when she it: she could see it quite plainly through the glass, and she tried her and when she had tired herself out with trying, the poor little thing rather sharply; “i advise you to leave off this minute!” she generally and sometimes she scolded herself so severely as to bring tears into cheated herself in a game of croquet she was playing against herself, “but it’s no use now,” thought poor alice, “to pretend to be two person!” soon her eye fell on a little glass box that was lying under the table: “eat me” were beautifully marked in currants. “well, i’ll eat it,” said makes me grow smaller, i can creep under the door; so either way i’ll way?”, holding her hand on the top of her head to feel which way it was size: to be sure, this generally happens when one eats cake, but alice things to happen, that it seemed quite dull and stupid for life to go chapter ii. “curiouser and curiouser!” cried alice (she was so much surprised, that opening out like the largest telescope that ever was! good-bye, feet!” sight, they were getting so far off). “oh, my poor little feet, i sure _i_ shan’t be able! i shall be a great deal too far off to trouble kind to them,” thought alice, “or perhaps they won’t walk the way i christmas.” and she went on planning to herself how she would manage it. “they must presents to one’s own feet! and how odd the directions will look! _alice’s right foot, esq., hearthrug, near the fender,_ (_with now more than nine feet high, and she at once took up the little golden look through into the garden with one eye; but to get through was more you,” (she might well say this), “to go on crying in this way! stop gallons of tears, until there was a large pool all round her, about she hastily dried her eyes to see what was coming. it was the white in one hand and a large fan in the other: he came trotting along in a duchess! oh! won’t she be savage if i’ve kept her waiting!” alice felt rabbit came near her, she began, in a low, timid voice, “if you please, the fan, and skurried away into the darkness as hard as he could go. alice took up the fan and gloves, and, as the hall was very hot, she queer everything is to-day! and yesterday things went on just as usual. same when i got up this morning? i almost think i can remember feeling in the world am i? ah, _that’s_ the great puzzle!” and she began herself, to see if she could have been changed for any of them. “i’m sure i’m not ada,” she said, “for her hair goes in such long be mabel, for i know all sorts of things, and she, oh! she knows such a puzzling it all is! i’ll try if i know all the things i used to know. and four times seven is—oh dear! i shall never get to twenty at that geography. london is the capital of paris, and paris is the capital of changed for mabel! i’ll try and say ‘_how doth the little_—’” and she to repeat it, but her voice sounded hoarse and strange, and the words improve his shining tail, on every golden scale! “how cheerfully he seems to grin, and welcome little fishes in “i’m sure those are not the right words,” said poor alice, and her eyes i shall have to go and live in that poky little house, and have next to made up my mind about it; if i’m mabel, i’ll stay down here! it’ll be i shall only look up and say ‘who am i then? tell me that first, and here till i’m somebody else’—but, oh dear!” cried alice, with a sudden _very_ tired of being all alone here!” as she said this she looked down at her hands, and was surprised to see she was talking. “how _can_ i have done that?” she thought. “i must be herself by it, and found that, as nearly as she could guess, she was found out that the cause of this was the fan she was holding, and she sudden change, but very glad to find herself still in existence; “and door: but, alas! the little door was shut again, and the little golden ever,” thought the poor child, “for i never was so small as this splash! she was up to her chin in salt water. her first idea was that railway,” she said to herself. (alice had been to the seaside once in to on the english coast you find a number of bathing machines in the of lodging houses, and behind them a railway station.) however, she she was nine feet high. “i wish i hadn’t cried so much!” said alice, as she swam about, trying being drowned in my own tears! that _will_ be a queer thing, to be off, and she swam nearer to make out what it was: at first she thought she was now, and she soon made out that it was only a mouse that had everything is so out-of-the-way down here, that i should think very began: “o mouse, do you know the way out of this pool? i am very tired way of speaking to a mouse: she had never done such a thing before, but a mouse—to a mouse—a mouse—o mouse!”) the mouse looked at her rather but it said nothing. “perhaps it doesn’t understand english,” thought alice; “i daresay it’s her knowledge of history, alice had no very clear notion how long ago was the first sentence in her french lesson-book. the mouse gave a fright. “oh, i beg your pardon!” cried alice hastily, afraid that she cats.” “not like cats!” cried the mouse, in a shrill, passionate voice. “would about it. and yet i wish i could show you our cat dinah: i think you’d quiet thing,” alice went on, half to herself, as she swam lazily about paws and washing her face—and she is such a nice soft thing to pardon!” cried alice again, for this time the mouse was bristling all about her any more if you’d rather not.” “we indeed!” cried the mouse, who was trembling down to the end of his _hated_ cats: nasty, low, vulgar things! don’t let me hear the name conversation. “are you—are you fond—of—of dogs?” the mouse did not our house i should like to show you! a little bright-eyed terrier, you you throw them, and it’ll sit up and beg for its dinner, and all sorts know, and he says it’s so useful, it’s worth a hundred pounds! he says “i’m afraid i’ve offended it again!” for the mouse was swimming away pool as it went. so she called softly after it, “mouse dear! do come back again, and we mouse heard this, it turned round and swam slowly back to her: its face trembling voice, “let us get to the shore, and then i’ll tell you my birds and animals that had fallen into it: there were a duck and a led the way, and the whole party swam to the shore. a caucus-race and a long tale birds with draggled feathers, the animals with their fur clinging close consultation about this, and after a few minutes it seemed quite she had known them all her life. indeed, she had quite a long argument older than you, and must know better;” and this alice would not allow tell its age, there was no more to be said. at last the mouse, who seemed to be a person of authority among them, you dry enough!” they all sat down at once, in a large ring, with the felt sure she would catch a bad cold if she did not get dry very soon. “ahem!” said the mouse with an important air, “are you all ready? this the conqueror, whose cause was favoured by the pope, was soon submitted accustomed to usurpation and conquest. edwin and morcar, the earls of you speak?” “not i!” said the lory hastily. “i thought you did,” said the mouse. “—i proceed. ‘edwin and morcar, stigand, the patriotic archbishop of canterbury, found it advisable—’” “found _what_?” said the duck. “found _it_,” the mouse replied rather crossly: “of course you know duck: “it’s generally a frog or a worm. the question is, what did the it advisable to go with edgar atheling to meet william and offer him of his normans—’ how are you getting on now, my dear?” it continued, dry me at all.” “in that case,” said the dodo solemnly, rising to its feet, “i move remedies—” “speak english!” said the eaglet. “i don’t know the meaning of half the eaglet bent down its head to hide a smile: some of the other birds that the best thing to get us dry would be a caucus-race.” “what _is_ a caucus-race?” said alice; not that she wanted much to speak, and no one else seemed inclined to say anything. “why,” said the dodo, “the best way to explain it is to do it.” (and, tell you how the dodo managed it.) first it marked out a race-course, in a sort of circle, (“the exact along the course, here and there. there was no “one, two, three, and liked, so that it was not easy to know when the race was over. however, again, the dodo suddenly called out “the race is over!” and they all thought, and it sat for a long time with one finger pressed upon its pictures of him), while the rest waited in silence. at last the dodo finger; and the whole party at once crowded round her, calling out in a pocket, and pulled out a box of comfits, (luckily the salt water had one a-piece, all round. “but she must have a prize herself, you know,” said the mouse. “of course,” the dodo replied very gravely. “what else have you got in presented the thimble, saying “we beg your acceptance of this elegant cheered. alice thought the whole thing very absurd, but they all looked so grave to say, she simply bowed, and took the thimble, looking as solemn as confusion, as the large birds complained that they could not taste however, it was over at last, and they sat down again in a ring, and it is you hate—c and d,” she added in a whisper, half afraid that it sighing. “it _is_ a long tail, certainly,” said alice, looking down with wonder puzzling about it while the mouse was speaking, so that her idea of the go to law: _i_ will prosecute _you_.—come, i’ll take no nothing to do.’ said the mouse to the cur, ‘such a trial, dear ‘i’ll be judge, i’ll be jury,’ said cunning old fury: ‘i’ll you thinking of?” “i beg your pardon,” said alice very humbly: “you had got to the fifth anxiously about her. “oh, do let me help to undo it!” “i shall do nothing of the sort,” said the mouse, getting up and you know!” the mouse only growled in reply. “please come back and finish your story!” alice called after it; and shook its head impatiently, and walked a little quicker. “what a pity it wouldn’t stay!” sighed the lory, as soon as it was her daughter “ah, my dear! let this be a lesson to you never to lose snappishly. “you’re enough to try the patience of an oyster!” “i wish i had our dinah here, i know i do!” said alice aloud, lory. alice replied eagerly, for she was always ready to talk about her pet: can’t think! and oh, i wish you could see her after the birds! why, birds hurried off at once: one old magpie began wrapping itself up very doesn’t suit my throat!” and a canary called out in a trembling voice bed!” on various pretexts they all moved off, and alice was soon left tone. “nobody seems to like her, down here, and i’m sure she’s the best any more!” and here poor alice began to cry again, for she felt very little pattering of footsteps in the distance, and she looked up coming back to finish his story. the rabbit sends in a little bill anxiously about as it went, as if it had lost something; and she heard my fur and whiskers! she’ll get me executed, as sure as ferrets are moment that it was looking for the fan and the pair of white kid they were nowhere to be seen—everything seemed to have changed since little door, had vanished completely. very soon the rabbit noticed alice, as she went hunting about, and doing out here? run home this moment, and fetch me a pair of gloves and at once in the direction it pointed to, without trying to explain the surprised he’ll be when he finds out who i am! but i’d better take him came upon a neat little house, on the door of which was a bright brass knocking, and hurried upstairs, in great fear lest she should meet the fan and gloves. “how queer it seems,” alice said to herself, “to be going messages for began fancying the sort of thing that would happen: “‘miss alice! come nurse! but i’ve got to see that the mouse doesn’t get out.’ only i if it began ordering people about like that!” by this time she had found her way into a tidy little room with a table pairs of tiny white kid gloves: she took up the fan and a pair of the little bottle that stood near the looking-glass. there was no label and put it to her lips. “i know _something_ interesting is sure to i’ll just see what this bottle does. i do hope it’ll make me grow large drunk half the bottle, she found her head pressing against the ceiling, down the bottle, saying to herself “that’s quite enough—i hope i shan’t drunk quite so much!” alas! it was too late to wish that! she went on growing, and growing, was not even room for this, and she tried the effect of lying down with still she went on growing, and, as a last resource, she put one arm out can do no more, whatever happens. what _will_ become of me?” luckily for alice, the little magic bottle had now had its full effect, seemed to be no sort of chance of her ever getting out of the room always growing larger and smaller, and being ordered about by mice and yet—it’s rather curious, you know, this sort of life! i do wonder what that kind of thing never happened, and now here i am in the middle of when i grow up, i’ll write one—but i’m grown up now,” she added in a now? that’ll be a comfort, one way—never to be an old woman—but lessons in here? why, there’s hardly room for _you_, and no room at all making quite a conversation of it altogether; but after a few minutes then came a little pattering of feet on the stairs. alice knew it was house, quite forgetting that she was now about a thousand times as the door opened inwards, and alice’s elbow was pressed hard against it, go round and get in at the window.” “_that_ you won’t!” thought alice, and, after waiting till she fancied hand, and made a snatch in the air. she did not get hold of anything, from which she concluded that it was just possible it had fallen into a then a voice she had never heard before, “sure then i’m here! digging help me out of _this!_” (sounds of more broken glass.) “now tell me, pat, what’s that in the window?” “sure, it’s an arm, yer honour!” (he pronounced it “arrum.”) “an arm, you goose! who ever saw one that size? why, it fills the whole now and then; such as, “sure, i don’t like it, yer honour, at all, at hand again, and made another snatch in the air. this time there were of cucumber-frames there must be!” thought alice. “i wonder what _could!_ i’m sure _i_ don’t want to stay in here any longer!” she waited for some time without hearing anything more: at last came a talking together: she made out the words: “where’s the other fetch it here, lad!—here, put ’em up at this corner—no, tie ’em well enough; don’t be particular—here, bill! catch hold of this heads below!” (a loud crash)—“now, who did that?—it was bill, i it!—_that_ i won’t, then!—bill’s to go down—here, bill! the master says herself. “shy, they seem to put everything upon bill! i wouldn’t be in i _think_ i can kick a little!” she drew her foot as far down the chimney as she could, and waited till scratching and scrambling about in the chimney close above her: then, to see what would happen next. the first thing she heard was a general chorus of “there goes bill!” silence, and then another confusion of voices—“hold up his head—brandy us all about it!” last came a little feeble, squeaking voice, (“that’s bill,” thought a deal too flustered to tell you—all i know is, something comes at me called out as loud as she could, “if you do, i’ll set dinah at you!” there was a dead silence instantly, and alice thought to herself, “i roof off.” after a minute or two, they began moving about again, and for the next moment a shower of little pebbles came rattling in at the this,” she said to herself, and shouted out, “you’d better not do that little cakes as they lay on the floor, and a bright idea came into her _some_ change in my size; and as it can’t possibly make me larger, it began shrinking directly. as soon as she was small enough to get little animals and birds waiting outside. the poor little lizard, bill, something out of a bottle. they all made a rush at alice the moment she safe in a thick wood. “the first thing i’ve got to do,” said alice to herself, as she second thing is to find my way into that lovely garden. i think that arranged; the only difficulty was, that she had not the smallest idea the trees, a little sharp bark just over her head made her look up in a feebly stretching out one paw, trying to touch her. “poor little it; but she was terribly frightened all the time at the thought that it spite of all her coaxing. hardly knowing what she did, she picked up a little bit of stick, and all its feet at once, with a yelp of delight, and rushed at the stick, to keep herself from being run over; and the moment she appeared on the over heels in its hurry to get hold of it; then alice, thinking it was moment to be trampled under its feet, ran round the thistle again; then little way forwards each time and a long way back, and barking hoarsely its tongue hanging out of its mouth, and its great eyes half shut. this seemed to alice a good opportunity for making her escape; so she and till the puppy’s bark sounded quite faint in the distance. “and yet what a dear little puppy it was!” said alice, as she leant leaves: “i should have liked teaching it tricks very much, if—if i’d i’ve got to grow up again! let me see—how _is_ it to be managed? i question is, what?” the great question certainly was, what? alice looked all round her at looked like the right thing to eat or drink under the circumstances. herself; and when she had looked under it, and on both sides of it, and was on the top of it. she stretched herself up on tiptoe, and peeped over the edge of the caterpillar, that was sitting on the top with its arms folded, quietly anything else. advice from a caterpillar silence: at last the caterpillar took the hookah out of its mouth, and rather shyly, “i—i hardly know, sir, just at present—at least i know changed several times since then.” “what do you mean by that?” said the caterpillar sternly. “explain not myself, you see.” “i don’t see,” said the caterpillar. “i’m afraid i can’t put it more clearly,” alice replied very politely, different sizes in a day is very confusing.” “it isn’t,” said the caterpillar. “well, perhaps you haven’t found it so yet,” said alice; “but when you after that into a butterfly, i should think you’ll feel it a little is, it would feel very queer to _me_.” “you!” said the caterpillar contemptuously. “who are _you?_” which brought them back again to the beginning of the conversation. short remarks, and she drew herself up and said, very gravely, “i good reason, and as the caterpillar seemed to be in a _very_ unpleasant important to say!” this sounded promising, certainly: alice turned and came back again. “keep your temper,” said the caterpillar. “is that all?” said alice, swallowing down her anger as well as she and perhaps after all it might tell her something worth hearing. for its arms, took the hookah out of its mouth again, and said, “so you used—and i don’t keep the same size for ten minutes together!” “can’t remember _what_ things?” said the caterpillar. “well, i’ve tried to say “how doth the little busy bee,” but it all “and your hair has become very white; do you think, at your age, it is right?” “in my youth,” father william replied to his son, but, now that i’m perfectly sure i have none, and have grown most uncommonly fat; pray, what is the reason of that?” “in my youth,” said the sage, as he shook his grey locks, by the use of this ointment—one shilling the box— for anything tougher than suet; pray, how did you manage to do it?” “in my youth,” said his father, “i took to the law, and the muscular strength, which it gave to my jaw, that your eye was as steady as ever; what made you so awfully clever?” “i have answered three questions, and that is enough,” do you think i can listen all day to such stuff? “that is not said right,” said the caterpillar. “not _quite_ right, i’m afraid,” said alice, timidly; “some of the and there was silence for some minutes. the caterpillar was the first to speak. “what size do you want to be?” it asked. “oh, i’m not particular as to size,” alice hastily replied; “only one before, and she felt that she was losing her temper. “are you content now?” said the caterpillar. “well, i should like to be a _little_ larger, sir, if you wouldn’t rearing itself upright as it spoke (it was exactly three inches high). “but i’m not used to it!” pleaded poor alice in a piteous tone. and she offended!” “you’ll get used to it in time,” said the caterpillar; and it put the minute or two the caterpillar took the hookah out of its mouth and mushroom, and crawled away in the grass, merely remarking as it went, grow shorter.” “one side of _what?_ the other side of _what?_” thought alice to aloud; and in another moment it was out of sight. alice remained looking thoughtfully at the mushroom for a minute, perfectly round, she found this a very difficult question. however, at off a bit of the edge with each hand. “and now which is which?” she said to herself, and nibbled a little of violent blow underneath her chin: it had struck her foot! she was a good deal frightened by this very sudden change, but she felt set to work at once to eat some of the other bit. her chin was pressed mouth; but she did it at last, and managed to swallow a morsel of the “come, my head’s free at last!” said alice in a tone of delight, which were nowhere to be found: all she could see, when she looked down, was sea of green leaves that lay far below her. “what _can_ all that green stuff be?” said alice. “and where _have_ my she was moving them about as she spoke, but no result seemed to follow, she tried to get her head down to them, and was delighted to find that had just succeeded in curving it down into a graceful zigzag, and was the tops of the trees under which she had been wandering, when a sharp face, and was beating her violently with its wings. “serpent!” screamed the pigeon. “i’m _not_ a serpent!” said alice indignantly. “let me alone!” “serpent, i say again!” repeated the pigeon, but in a more subdued seems to suit them!” “i haven’t the least idea what you’re talking about,” said alice. “i’ve tried the roots of trees, and i’ve tried banks, and i’ve tried serpents! there’s no pleasing them!” alice was more and more puzzled, but she thought there was no use in “but i must be on the look-out for serpents night and day! why, i see its meaning. “and just as i’d taken the highest tree in the wood,” continued the should be free of them at last, they must needs come wriggling down invent something!” “i—i’m a little girl,” said alice, rather doubtfully, as she remembered contempt. “i’ve seen a good many little girls in my time, but never no use denying it. i suppose you’ll be telling me next that you never child; “but little girls eat eggs quite as much as serpents do, you they’re a kind of serpent, that’s all i can say.” this was such a new idea to alice, that she was quite silent for a looking for eggs, i know _that_ well enough; and what does it matter to looking for eggs, as it happens; and if i was, i shouldn’t want down again into its nest. alice crouched down among the trees as well and every now and then she had to stop and untwist it. after a while and she set to work very carefully, nibbling first at one and then at she had succeeded in bringing herself down to her usual height. it was so long since she had been anything near the right size, that it and began talking to herself, as usual. “come, there’s half my plan going to be, from one minute to another! however, i’ve got back to my _is_ that to be done, i wonder?” as she said this, she came suddenly “whoever lives there,” thought alice, “it’ll never do to come upon them began nibbling at the righthand bit again, and did not venture to go chapter vi. for a minute or two she stood looking at the house, and wondering what wood—(she considered him to be a footman because he was in livery: fish)—and rapped loudly at the door with his knuckles. it was opened by frog; and both footmen, alice noticed, had powdered hair that curled about, and crept a little way out of the wood to listen. the fish-footman began by producing from under his arm a great letter, saying, in a solemn tone, “for the duchess. an invitation from the tone, only changing the order of the words a little, “from the queen. for fear of their hearing her; and when she next peeped out the door, staring stupidly up into the sky. alice went timidly up to the door, and knocked. “there’s no sort of use in knocking,” said the footman, “and that for are; secondly, because they’re making such a noise inside, no one could noise going on within—a constant howling and sneezing, and every now pieces. “please, then,” said alice, “how am i to get in?” “there might be some sense in your knocking,” the footman went on if you were _inside_, you might knock, and i could let you out, you this alice thought decidedly uncivil. “but perhaps he can’t help it,” head. but at any rate he might answer questions.—how am i to get in?” skimming out, straight at the footman’s head: it just grazed his nose, as if nothing had happened. “how am i to get in?” asked alice again, in a louder tone. “_are_ you to get in at all?” said the footman. “that’s the first dreadful,” she muttered to herself, “the way all the creatures argue. remark, with variations. “i shall sit here,” he said, “on and off, for perfectly idiotic!” and she opened the door and went in. the door led right into a large kitchen, which was full of smoke from in the middle, nursing a baby; the cook was leaning over the fire, herself, as well as she could for sneezing. there was certainly too much of it in the air. even the duchess sneezed alternately without a moment’s pause. the only things in the kitchen on the hearth and grinning from ear to ear. “please would you tell me,” said alice, a little timidly, for she was your cat grins like that?” “it’s a cheshire cat,” said the duchess, “and that’s why. pig!” she said the last word with such sudden violence that alice quite baby, and not to her, so she took courage, and went on again:— “i didn’t know that cheshire cats always grinned; in fact, i didn’t pleased to have got into a conversation. “you don’t know much,” said the duchess; “and that’s a fact.” alice did not at all like the tone of this remark, and thought it would was trying to fix on one, the cook took the cauldron of soup off the the duchess and the baby—the fire-irons came first; then followed a them even when they hit her; and the baby was howling so much already, in an agony of terror. “oh, there goes his _precious_ nose!” as an off. “if everybody minded their own business,” the duchess said in a hoarse get an opportunity of showing off a little of her knowledge. “just earth takes twenty-four hours to turn round on its axis—” “talking of axes,” said the duchess, “chop off her head!” alice glanced rather anxiously at the cook, to see if she meant to take be listening, so she went on again: “twenty-four hours, i _think_; or figures!” and with that she began nursing her child again, singing a the end of every line: “speak roughly to your little boy, he only does it to annoy, chorus. “wow! wow! wow!” the baby violently up and down, and the poor little thing howled so, i beat him when he sneezes; the pepper when he pleases!” “wow! wow! wow!” flinging the baby at her as she spoke. “i must go and get ready to play threw a frying-pan after her as she went out, but it just missed her. alice caught the baby with some difficulty, as it was a queer-shaped “just like a star-fish,” thought alice. the poor little thing was itself up and straightening itself out again, so that altogether, for twist it up into a sort of knot, and then keep tight hold of its right out into the open air. “if i don’t take this child away with me,” murder to leave it behind?” she said the last words out loud, and the “don’t grunt,” said alice; “that’s not at all a proper way of to see what was the matter with it. there could be no doubt that it had its eyes were getting extremely small for a baby: altogether alice did sobbing,” she thought, and looked into its eyes again, to see if there said alice, seriously, “i’ll have nothing more to do with you. mind to say which), and they went on for some while in silence. alice was just beginning to think to herself, “now, what am i to do violently, that she looked down into its face in some alarm. this time a pig, and she felt that it would be quite absurd for her to carry it trot away quietly into the wood. “if it had grown up,” she said to rather a handsome pig, i think.” and she began thinking over other to herself, “if one only knew the right way to change them—” when she a tree a few yards off. the cat only grinned when it saw alice. it looked good-natured, she felt that it ought to be treated with respect. “cheshire puss,” she began, rather timidly, as she did not at all know wider. “come, it’s pleased so far,” thought alice, and she went on. enough.” alice felt that this could not be denied, so she tried another a hatter: and in _that_ direction,” waving the other paw, “lives a you’re mad.” “how do you know i’m mad?” said alice. “you must be,” said the cat, “or you wouldn’t have come here.” alice didn’t think that proved it at all; however, she went on “and how and wags its tail when it’s pleased. now _i_ growl when i’m pleased, queen to-day?” “i should like it very much,” said alice, “but i haven’t been invited things happening. while she was looking at the place where it had been, forgotten to ask.” “it turned into a pig,” alice quietly said, just as if it had come back appear, and after a minute or two she walked on in the direction in said to herself; “the march hare will be much the most interesting, and was in march.” as she said this, she looked up, and there was the cat and vanishing so suddenly: you make one quite giddy.” “all right,” said the cat; and this time it vanished quite slowly, remained some time after the rest of it had gone. “well! i’ve often seen a cat without a grin,” thought alice; “but a the march hare: she thought it must be the right house, because the was so large a house, that she did not like to go nearer till she had to about two feet high: even then she walked up towards it rather i almost wish i’d gone to see the hatter instead!” a mad tea-party march hare and the hatter were having tea at it: a dormouse was sitting cushion, resting their elbows on it, and talking over its head. “very i suppose it doesn’t mind.” the table was a large one, but the three were all crowded together at alice coming. “there’s _plenty_ of room!” said alice indignantly, and “i don’t see any wine,” she remarked. “there isn’t any,” said the march hare. “then it wasn’t very civil of you to offer it,” said alice angrily. “it wasn’t very civil of you to sit down without being invited,” said many more than three.” “your hair wants cutting,” said the hatter. he had been looking at speech. “you should learn not to make personal remarks,” alice said with some was, “why is a raven like a writing-desk?” “come, we shall have some fun now!” thought alice. “i’m glad they’ve the march hare. “exactly so,” said alice. “then you should say what you mean,” the march hare went on. “i do,” alice hastily replied; “at least—at least i mean what i say that ‘i see what i eat’ is the same thing as ‘i eat what i see’!” “you might just as well say,” added the march hare, “that ‘i like what talking in his sleep, “that ‘i breathe when i sleep’ is the same thing conversation dropped, and the party sat silent for a minute, while writing-desks, which wasn’t much. the hatter was the first to break the silence. “what day of the month pocket, and was looking at it uneasily, shaking it every now and then, the works!” he added looking angrily at the march hare. “it was the _best_ butter,” the march hare meekly replied. “yes, but some crumbs must have got in as well,” the hatter grumbled: it into his cup of tea, and looked at it again: but he could think of you know.” alice had been looking over his shoulder with some curiosity. “what a tell what o’clock it is!” “why should it?” muttered the hatter. “does _your_ watch tell you what stays the same year for such a long time together.” “which is just the case with _mine_,” said the hatter. alice felt dreadfully puzzled. the hatter’s remark seemed to have no understand you,” she said, as politely as she could. “the dormouse is asleep again,” said the hatter, and he poured a little eyes, “of course, of course; just what i was going to remark myself.” “have you guessed the riddle yet?” the hatter said, turning to alice time,” she said, “than waste it in asking riddles that have no about wasting _it_. it’s _him_.” “i don’t know what you mean,” said alice. “of course you don’t!” the hatter said, tossing his head time when i learn music.” “ah! that accounts for it,” said the hatter. “he won’t stand beating. you liked with the clock. for instance, suppose it were nine o’clock in hint to time, and round goes the clock in a twinkling! half-past one, shouldn’t be hungry for it, you know.” “not at first, perhaps,” said the hatter: “but you could keep it to quarrelled last march—just before _he_ went mad, you know—” (pointing given by the queen of hearts, and i had to sing ‘twinkle, twinkle, little bat! you know the song, perhaps?” “i’ve heard something like it,” said alice. “it goes on, you know,” the hatter continued, “in this way:— ‘up above the world you fly, twinkle, twinkle—’” “_twinkle, twinkle, twinkle, twinkle_—” and went on so long that they queen jumped up and bawled out, ‘he’s murdering the time! off with his do a thing i ask! it’s always six o’clock now.” a bright idea came into alice’s head. “is that the reason so many and we’ve no time to wash the things between whiles.” “then you keep moving round, i suppose?” said alice. “exactly so,” said the hatter: “as the things get used up.” “but what happens when you come to the beginning again?” alice ventured “i’m getting tired of this. i vote the young lady tells us a story.” “i’m afraid i don’t know one,” said alice, rather alarmed at the they pinched it on both sides at once. the dormouse slowly opened his eyes. “i wasn’t asleep,” he said in a before it’s done.” “once upon a time there were three little sisters,” the dormouse began they lived at the bottom of a well—” “what did they live on?” said alice, who always took a great interest two. “they couldn’t have done that, you know,” alice gently remarked; living would be like, but it puzzled her too much, so she went on: “but take more.” “you mean you can’t take _less_,” said the hatter: “it’s very easy to some tea and bread-and-butter, and then turned to the dormouse, and said, “it was a treacle-well.” “there’s no such thing!” alice was beginning very angrily, but the remarked, “if you can’t be civil, you’d better finish the story for dare say there may be _one_.” “one, indeed!” said the dormouse indignantly. however, he consented to you know—” “what did they draw?” said alice, quite forgetting her promise. “treacle,” said the dormouse, without considering at all this time. “i want a clean cup,” interrupted the hatter: “let’s all move one place moved into the dormouse’s place, and alice rather unwillingly took the advantage from the change: and alice was a good deal worse off than cautiously: “but i don’t understand. where did they draw the treacle think you could draw treacle out of a treacle-well—eh, stupid?” “but they were _in_ the well,” alice said to the dormouse, not choosing some time without interrupting it. “they were learning to draw,” the dormouse went on, yawning and rubbing things—everything that begins with an m—” “why with an m?” said alice. “why not?” said the march hare. alice was silent. the dormouse had closed its eyes by this time, and was going off into a little shriek, and went on: “—that begins with an m, such as things are “much of a muchness”—did you ever see such a thing as a think—” “then you shouldn’t talk,” said the hatter. this piece of rudeness was more than alice could bear: she got up in neither of the others took the least notice of her going, though she the last time she saw them, they were trying to put the dormouse into way through the wood. “it’s the stupidest tea-party i ever was at in leading right into it. “that’s very curious!” she thought. “but in she went. once more she found herself in the long hall, and close to the little and began by taking the little golden key, and unlocking the door that (she had kept a piece of it in her pocket) till she was about a foot herself at last in the beautiful garden, among the bright flower-beds chapter viii. a large rose-tree stood near the entrance of the garden: the roses painting them red. alice thought this a very curious thing, and she one of them say, “look out now, five! don’t go splashing paint over me elbow.” on which seven looked up and said, “that’s right, five! always lay the yesterday you deserved to be beheaded!” “what for?” said the one who had spoken first. “that’s none of _your_ business, two!” said seven. “yes, it _is_ his business!” said five, “and i’ll tell him—it was for things—” when his eye chanced to fall upon alice, as she stood watching and all of them bowed low. “would you tell me,” said alice, a little timidly, “why you are voice, “why the fact is, you see, miss, this here ought to have been a was to find it out, we should all have our heads cut off, you know. so moment five, who had been anxiously looking across the garden, called themselves flat upon their faces. there was a sound of many footsteps, three gardeners, oblong and flat, with their hands and feet at the diamonds, and walked two and two, as the soldiers did. after these came jumping merrily along hand in hand, in couples: they were all and among them alice recognised the white rabbit: it was talking in a by without noticing her. then followed the knave of hearts, carrying grand procession, came the king and queen of hearts. alice was rather doubtful whether she ought not to lie down on her face of such a rule at processions; “and besides, what would be the use of a faces, so that they couldn’t see it?” so she stood still where she was, at her, and the queen said severely “who is this?” she said it to the alice, she went on, “what’s your name, child?” “my name is alice, so please your majesty,” said alice very politely; all. i needn’t be afraid of them!” “and who are _these?_” said the queen, pointing to the three gardeners their faces, and the pattern on their backs was the same as the rest of or courtiers, or three of her own children. “how should _i_ know?” said alice, surprised at her own courage. “it’s moment like a wild beast, screamed “off with her head! off—” “nonsense!” said alice, very loudly and decidedly, and the queen was dear: she is only a child!” the queen turned angrily away from him, and said to the knave “turn gardeners instantly jumped up, and began bowing to the king, the queen, turning to the rose-tree, she went on, “what _have_ you been doing down on one knee as he spoke, “we were trying—” “_i_ see!” said the queen, who had meanwhile been examining the roses. soldiers remaining behind to execute the unfortunate gardeners, who ran flower-pot that stood near. the three soldiers wandered about for a others. “are their heads off?” shouted the queen. “their heads are gone, if it please your majesty!” the soldiers shouted evidently meant for her. “yes!” shouted alice. “come on, then!” roared the queen, and alice joined the procession, walking by the white rabbit, who was peeping anxiously into her face. “very,” said alice: “—where’s the duchess?” “hush! hush!” said the rabbit in a low, hurried tone. he looked tiptoe, put his mouth close to her ear, and whispered “she’s under ‘what for?’” “she boxed the queen’s ears—” the rabbit began. alice gave a little tone. “the queen will hear you! you see, she came rather late, and the people began running about in all directions, tumbling up against each began. alice thought she had never seen such a curious croquet-ground hedgehogs, the mallets live flamingoes, and the soldiers had to double she succeeded in getting its body tucked away, comfortably enough, had got its neck nicely straightened out, and was going to give the up in her face, with such a puzzled expression that she could not help going to begin again, it was very provoking to find that the hedgehog this, there was generally a ridge or furrow in the way wherever she always getting up and walking off to other parts of the ground, alice all the while, and fighting for the hedgehogs; and in a very short time shouting “off with his head!” or “off with her head!” about once in a dispute with the queen, but she knew that it might happen any minute, fond of beheading people here; the great wonder is, that there’s any could get away without being seen, when she noticed a curious watching it a minute or two, she made it out to be a grin, and she said to.” “how are you getting on?” said the cat, as soon as there was mouth speaking to it,” she thought, “till its ears have come, or at least one down her flamingo, and began an account of the game, feeling very glad was enough of it now in sight, and no more of it appeared. “i don’t think they play at all fairly,” alice began, in rather a oneself speak—and they don’t seem to have any rules in particular; at confusing it is all the things being alive; for instance, there’s the ground—and i should have croqueted the queen’s hedgehog just now, only that the queen was close behind her, listening: so she went on, looking at the cat’s head with great curiosity. “it’s a friend of mine—a cheshire cat,” said alice: “allow me to kiss my hand if it likes.” “i’d rather not,” the cat remarked. “don’t be impertinent,” said the king, “and don’t look at me like but i don’t remember where.” “well, it must be removed,” said the king very decidedly, and he called have this cat removed!” the queen had only one way of settling all difficulties, great or hurried off. alice thought she might as well go back, and see how the game was going passion. she had already heard her sentence three of the players to be of things at all, as the game was in such confusion that she never knew to alice an excellent opportunity for croqueting one of them with the the other side of the garden, where alice could see it trying in a was over, and both the hedgehogs were out of sight: “but it doesn’t of the ground.” so she tucked it away under her arm, that it might not friend. when she got back to the cheshire cat, she was surprised to find quite the executioner, the king, and the queen, who were all talking at once, the question, and they repeated their arguments to her, though, as they what they said. the executioner’s argument was, that you couldn’t cut off a head unless thing before, and he wasn’t going to begin at _his_ time of life. the king’s argument was, that anything that had a head could be less than no time she’d have everybody executed, all round. (it was anxious.) alice could think of nothing else to say but “it belongs to the and the executioner went off like an arrow. the cat’s head began fading away the moment he was gone, and, by the the king and the executioner ran wildly up and down looking for it, chapter ix. “you can’t think how glad i am to see you again, you dear old thing!” and they walked off together. alice was very glad to find her in such a pleasant temper, and thought savage when they met in the kitchen. “when _i’m_ a duchess,” she said to herself, (not in a very hopeful does very well without—maybe it’s always pepper that makes people kind of rule, “and vinegar that makes them sour—and camomile that makes sweet-tempered. i only wish people knew _that_: then they wouldn’t be startled when she heard her voice close to her ear. “you’re thinking tell you just now what the moral of that is, but i shall remember it in you can find it.” and she squeezed herself up closer to alice’s side as duchess was _very_ ugly; and secondly, because she was exactly the uncomfortably sharp chin. however, she did not like to be rude, so she the conversation a little. “’tis so,” said the duchess: “and the moral of that is—‘oh, ’tis love, their own business!” “ah, well! it means much the same thing,” said the duchess, digging her _that_ is—‘take care of the sense, and the sounds will take care of herself. “i dare say you’re wondering why i don’t put my arm round your waist,” the temper of your flamingo. shall i try the experiment?” “he might bite,” alice cautiously replied, not feeling at all anxious the moral of that is—‘birds of a feather flock together.’” “only mustard isn’t a bird,” alice remarked. “right, as usual,” said the duchess: “what a clear way you have of everything that alice said; “there’s a large mustard-mine near here. of yours.’” “oh, i know!” exclaimed alice, who had not attended to this last is—‘be what you would seem to be’—or if you’d like it put more appear to others that what you were or might have been was not otherwise.’” “i think i should understand that better,” alice said very politely, in a pleased tone. “pray don’t trouble yourself to say it any longer than that,” said of everything i’ve said as yet.” “a cheap sort of present!” thought alice. “i’m glad they don’t give loud. “thinking again?” the duchess asked, with another dig of her sharp feel a little worried. “just about as much right,” said the duchess, “as pigs have to fly; and even in the middle of her favourite word ‘moral,’ and the arm that was queen in front of them, with her arms folded, frowning like a ground as she spoke; “either you or your head must be off, and that in much frightened to say a word, but slowly followed her back to the resting in the shade: however, the moment they saw her, they hurried would cost them their lives. all the time they were playing the queen never left off quarrelling her head!” those whom she sentenced were taken into custody by the that by the end of half an hour or so there were no arches left, and and under sentence of execution. then the queen left off, quite out of breath, and said to alice, “have to the company generally, “you are all pardoned.” “come, _that’s_ a number of executions the queen had ordered. they very soon came upon a gryphon, lying fast asleep in the sun. (if thing!” said the queen, “and take this young lady to see the mock executions i have ordered;” and she walked off, leaving alice alone but on the whole she thought it would be quite as safe to stay with it she was out of sight: then it chuckled. “what fun!” said the gryphon, executes nobody, you know. come on!” “everybody says ‘come on!’ here,” thought alice, as she went slowly sitting sad and lonely on a little ledge of rock, and, as they came pitied him deeply. “what is his sorrow?” she asked the gryphon, and the his fancy, that: he hasn’t got no sorrow, you know. come on!” so they went up to the mock turtle, who looked at them with large eyes history, she do.” “i’ll tell it her,” said the mock turtle in a deep, hollow tone: “sit herself, “i don’t see how he can _ever_ finish, if he doesn’t begin.” turtle.” these words were followed by a very long silence, broken only by an heavy sobbing of the mock turtle. alice was very nearly getting up and help thinking there _must_ be more to come, so she sat still and said though still sobbing a little now and then, “we went to school in the angrily: “really you are very dull!” “you ought to be ashamed of yourself for asking such a simple at poor alice, who felt ready to sink into the earth. at last the day about it!” and he went on in these words: “yes, we went to school in the sea, though you mayn’t believe it—” “i never said i didn’t!” interrupted alice. “you did,” said the mock turtle. “hold your tongue!” added the gryphon, before alice could speak again. proud as all that.” “with extras?” asked the mock turtle a little anxiously. “yes,” said alice, “we learned french and music.” “and washing?” said the mock turtle. “certainly not!” said alice indignantly. “ah! then yours wasn’t a really good school,” said the mock turtle in a ‘french, music, _and washing_—extra.’” “you couldn’t have wanted it much,” said alice; “living at the bottom only took the regular course.” “what was that?” inquired alice. “reeling and writhing, of course, to begin with,” the mock turtle distraction, uglification, and derision.” “i never heard of ‘uglification,’” alice ventured to say. “what is it?” the gryphon lifted up both its paws in surprise. “what! never heard of is, you _are_ a simpleton.” alice did not feel encouraged to ask any more questions about it, so subjects on his flappers, “—mystery, ancient and modern, with that used to come once a week: _he_ taught us drawling, stretching, and stiff. and the gryphon never learnt it.” “hadn’t time,” said the gryphon: “i went to the classics master, laughing and grief, they used to say.” “so he did, so he did,” said the gryphon, sighing in his turn; and both to change the subject. “ten hours the first day,” said the mock turtle: “nine the next, and so “because they lessen from day to day.” this was quite a new idea to alice, and she thought it over a little a holiday?” “of course it was,” said the mock turtle. “and how did you manage on the twelfth?” alice went on eagerly. “that’s enough about lessons,” the gryphon interrupted in a very chapter x. the mock turtle sighed deeply, and drew the back of one flapper across two sobs choked his voice. “same as if he had a bone in his throat,” the back. at last the mock turtle recovered his voice, and, with tears alice)—“and perhaps you were never even introduced to a lobster—” said “no, never”) “—so you can have no idea what a delightful thing a sea-shore—” “two lines!” cried the mock turtle. “seals, turtles, salmon, and so on; about. “change lobsters again!” yelled the gryphon at the top of its voice. “back to land again, and that’s all the first figure,” said the mock been jumping about like mad things all this time, sat down again very gryphon. “we can do without lobsters, you know. which shall sing?” “oh, _you_ sing,” said the gryphon. “i’ve forgotten the words.” so they began solemnly dancing round and round alice, every now and forepaws to mark the time, while the mock turtle sang this, very slowly “there’s a porpoise close behind us, and he’s treading on my tail. they are waiting on the shingle—will you come and join the dance? will you, won’t you, will you, won’t you, won’t you join the dance? “you can really have no notion how delightful it will be but the snail replied “too far, too far!” and gave a look askance— would not, could not, would not, could not, would not join the dance. “there is another shore, you know, upon the other side. then turn not pale, beloved snail, but come and join the dance. will you, won’t you, will you, won’t you, won’t you join the dance?” feeling very glad that it was over at last: “and i do so like that of course?” “yes,” said alice, “i’ve often seen them at dinn—” she checked herself seen them so often, of course you know what they’re like.” “i believe so,” alice replied thoughtfully. “they have their tails in all wash off in the sea. but they _have_ their tails in their mouths; eyes.—“tell her about the reason and all that,” he said to the gryphon. “the reason is,” said the gryphon, “that they _would_ go with the fall a long way. so they got their tails fast in their mouths. so they about a whiting before.” “i can tell you more than that, if you like,” said the gryphon. “do you in a wondering tone. “why, what are _your_ shoes done with?” said the gryphon. “i mean, what answer. “they’re done with blacking, i believe.” “boots and shoes under the sea,” the gryphon went on in a deep voice, “any shrimp could have told you that.” “if i’d been the whiting,” said alice, whose thoughts were still please: we don’t want _you_ with us!’” “they were obliged to have him with them,” the mock turtle said: “no and told me he was going a journey, i should say ‘with what porpoise?’” “don’t you mean ‘purpose’?” said alice. “i mean what i say,” the mock turtle replied in an offended tone. and alice a little timidly: “but it’s no use going back to yesterday, “explanations take such a dreadful time.” so alice began telling them her adventures from the time when she first the two creatures got so close to her, one on each side, and opened went on. her listeners were perfectly quiet till she got to the part caterpillar, and the words all coming different, and then the mock should like to hear her try and repeat something now. tell her to authority over alice. “stand up and repeat ‘’_tis the voice of the sluggard_,’” said the thought alice; “i might as well be at school at once.” however, she got quadrille, that she hardly knew what she was saying, and the words came “you have baked me too brown, i must sugar my hair.” trims his belt and his buttons, and turns out his toes.” [later editions continued as follows and will talk in contemptuous tones of the shark, his voice has a timid and tremulous sound.] the gryphon. “well, i never heard it before,” said the mock turtle; “but it sounds wondering if anything would _ever_ happen in a natural way again. “i should like to have it explained,” said the mock turtle. “she can’t explain it,” said the gryphon hastily. “go on with the next them out with his nose, you know?” “it’s the first position in dancing.” alice said; but was dreadfully begins ‘_i passed by his garden_.’” alice did not dare to disobey, though she felt sure it would all come how the owl and the panther were sharing a pie—” [later editions continued as follows while the owl had the dish as its share of the treat. was kindly permitted to pocket the spoon: and concluded the banquet—] interrupted, “if you don’t explain it as you go on? it’s by far the only too glad to do so. “shall we try another figure of the lobster quadrille?” the gryphon replied, so eagerly that the gryphon said, in a rather offended tone, fellow?” the mock turtle sighed deeply, and began, in a voice sometimes choked waiting in a hot tureen! soup of the evening, beautiful soup! beau—ootiful soo—oop! soo—oop of the e—e—evening, game, or any other dish? ennyworth only of beautiful soup? beau—ootiful soo—oop! soo—oop of the e—e—evening, “chorus again!” cried the gryphon, and the mock turtle had just begun distance. “come on!” cried the gryphon, and, taking alice by the hand, it hurried answered “come on!” and ran the faster, while more and more faintly beautiful, beautiful soup!” who stole the tarts? arrived, with a great crowd assembled about them—all sorts of little standing before them, in chains, with a soldier on each side to guard hand, and a scroll of parchment in the other. in the very middle of the good, that it made alice quite hungry to look at them—“i wish they’d but there seemed to be no chance of this, so she began looking at about them in books, and she was quite pleased to find that she knew herself, “because of his great wig.” the judge, by the way, was the king; and as he wore his crown over the did not look at all comfortable, and it was certainly not becoming. “and that’s the jury-box,” thought alice, “and those twelve creatures,” animals, and some were birds,) “i suppose they are the jurors.” she proud of it: for she thought, and rightly too, that very few little would have done just as well. the twelve jurors were all writing very busily on slates. “what are to put down yet, before the trial’s begun.” “they’re putting down their names,” the gryphon whispered in reply, stopped hastily, for the white rabbit cried out, “silence in the to make out who was talking. alice could see, as well as if she were looking over their shoulders, and she could even make out that one of them didn’t know how to spell muddle their slates’ll be in before the trial’s over!” thought alice. one of the jurors had a pencil that squeaked. this of course, alice very soon found an opportunity of taking it away. she did it so quickly at all what had become of it; so, after hunting all about for it, he was of very little use, as it left no mark on the slate. “herald, read the accusation!” said the king. on this the white rabbit blew three blasts on the trumpet, and then all on a summer day: and took them quite away!” deal to come before that!” “call the first witness,” said the king; and the white rabbit blew and a piece of bread-and-butter in the other. “i beg pardon, your my tea when i was sent for.” “you ought to have finished,” said the king. “when did you begin?” the hatter looked at the march hare, who had followed him into the was,” he said. “fifteenth,” said the march hare. “sixteenth,” added the dormouse. “write that down,” the king said to the jury, and the jury eagerly reduced the answer to shillings and pence. “take off your hat,” the king said to the hatter. “it isn’t mine,” said the hatter. “_stolen!_” the king exclaimed, turning to the jury, who instantly made of my own. i’m a hatter.” here the queen put on her spectacles, and began staring at the hatter, have you executed on the spot.” this did not seem to encourage the witness at all: he kept shifting confusion he bit a large piece out of his teacup instead of the her a good deal until she made out what it was: she was beginning to the court; but on second thoughts she decided to remain where she was next to her. “i can hardly breathe.” “i can’t help it,” said alice very meekly: “i’m growing.” “you’ve no right to grow _here_,” said the dormouse. “don’t talk nonsense,” said alice more boldly: “you know you’re growing that ridiculous fashion.” and he got up very sulkily and crossed over just as the dormouse crossed the court, she said to one of the officers on which the wretched hatter trembled so, that he shook both his shoes executed, whether you’re nervous or not.” “i’m a poor man, your majesty,” the hatter began, in a trembling voice, bread-and-butter getting so thin—and the twinkling of the tea—” “the twinkling of the _what?_” said the king. “it _began_ with the tea,” the hatter replied. “of course twinkling begins with a t!” said the king sharply. “do you that—only the march hare said—” “i didn’t!” the march hare interrupted in a great hurry. “you did!” said the hatter. “i deny it!” said the march hare. “he denies it,” said the king: “leave out that part.” “well, at any rate, the dormouse said—” the hatter went on, looking nothing, being fast asleep. “after that,” continued the hatter, “i cut some more bread-and-butter—” “but what did the dormouse say?” one of the jury asked. “that i can’t remember,” said the hatter. “you _must_ remember,” remarked the king, “or i’ll have you executed.” the miserable hatter dropped his teacup and bread-and-butter, and went the officers of the court. (as that is rather a hard word, i will just up at the mouth with strings: into this they slipped the guinea-pig, the newspapers, at the end of trials, “there was some attempts at court,” and i never understood what it meant till now.”'"
      ]
     },
     "execution_count": 104,
     "metadata": {},
     "output_type": "execute_result"
    }
   ],
   "source": [
    "#############################################################\n",
    "# TO DO\n",
    "# Convert the text to lower case.\n",
    "#############################################################\n",
    "# Type your code below this line\n",
    "# non_empty_str.upper()\n",
    "new_string.lower()"
   ]
  },
  {
   "cell_type": "markdown",
   "metadata": {
    "id": "yNzM9uEXtPgV"
   },
   "source": [
    "#### Hint:"
   ]
  },
  {
   "cell_type": "markdown",
   "metadata": {
    "id": "_6xMhrqptRXH"
   },
   "source": [
    "Use the `lower()` function."
   ]
  },
  {
   "cell_type": "markdown",
   "metadata": {
    "id": "-6jvhDdJki-_"
   },
   "source": [
    "---\n",
    "### 7. Get a list of all the words in the text."
   ]
  },
  {
   "cell_type": "code",
   "execution_count": 105,
   "metadata": {
    "id": "lyYdI8rrkfLL"
   },
   "outputs": [],
   "source": [
    "#############################################################\n",
    "# TO DO\n",
    "# Get a list of all the words in the text.\n",
    "#############################################################\n",
    "# Type your code below this line\n",
    "new_string_lst = new_string.split()\n"
   ]
  },
  {
   "cell_type": "code",
   "execution_count": 106,
   "metadata": {},
   "outputs": [
    {
     "data": {
      "text/plain": [
       "11584"
      ]
     },
     "execution_count": 106,
     "metadata": {},
     "output_type": "execute_result"
    }
   ],
   "source": [
    "len(new_string_lst)"
   ]
  },
  {
   "cell_type": "markdown",
   "metadata": {
    "id": "PZnNKX62tdHS"
   },
   "source": [
    "#### Hint:"
   ]
  },
  {
   "cell_type": "markdown",
   "metadata": {
    "id": "eN_R11-stel4"
   },
   "source": [
    "The `split()` can be used to get a list of words from a string."
   ]
  },
  {
   "cell_type": "markdown",
   "metadata": {
    "id": "VAcWJvFdVIZZ"
   },
   "source": [
    "### 8. Remove punctuation\n",
    "\n",
    "For a machine, character sequences `rabbit`, `rabbit,` and `rabbit!` are diferrent words, although we as humans understand that this is the same word with/without punctuation marks after it. To avoid this confusion, we can remove punctuation, because it is unnecessary for our task."
   ]
  },
  {
   "cell_type": "code",
   "execution_count": 112,
   "metadata": {
    "id": "_NcsJ4-XzL4W"
   },
   "outputs": [],
   "source": [
    "#############################################################\n",
    "# TO DO\n",
    "# Remove the punctuations in the words contained in the list.\n",
    "#############################################################\n",
    "# Type your code below this line\n",
    "import string\n",
    "\n",
    "string_lst2 = []\n",
    "strPunchText = string.punctuation\n",
    "for wrd in new_string_lst:\n",
    "    wrd_res = wrd.strip(strPunchText)\n",
    "    string_lst2.append(wrd_res)"
   ]
  },
  {
   "cell_type": "markdown",
   "metadata": {
    "id": "u4QPTgQgVRLl"
   },
   "source": [
    "#### Hint:"
   ]
  },
  {
   "cell_type": "code",
   "execution_count": 113,
   "metadata": {},
   "outputs": [
    {
     "name": "stdout",
     "output_type": "stream",
     "text": [
      "11584\n"
     ]
    }
   ],
   "source": [
    "print(len(string_lst2))"
   ]
  },
  {
   "cell_type": "markdown",
   "metadata": {
    "id": "2OSMVZSQVRLn"
   },
   "source": [
    "Use `strip()` function. List comprehensions may also come in handy!"
   ]
  },
  {
   "cell_type": "markdown",
   "metadata": {
    "id": "6ID09CxSky1g"
   },
   "source": [
    "---\n",
    "### 9. How many total words are there in the text?\n",
    "\n",
    "Individuals elements in a text (usually words, but not only) are called **tokens** in NLP."
   ]
  },
  {
   "cell_type": "code",
   "execution_count": 114,
   "metadata": {
    "id": "r8UY3Em8kpRb"
   },
   "outputs": [
    {
     "name": "stdout",
     "output_type": "stream",
     "text": [
      "11584\n"
     ]
    }
   ],
   "source": [
    "#############################################################\n",
    "# TO DO\n",
    "# # Count the words in the list.\n",
    "#############################################################\n",
    "# Type your code below this line\n",
    "count_lst = print(len(string_lst2))"
   ]
  },
  {
   "cell_type": "markdown",
   "metadata": {
    "id": "6Ge6sfS-tnDd"
   },
   "source": [
    "#### Hint:"
   ]
  },
  {
   "cell_type": "markdown",
   "metadata": {
    "id": "R5LyHU0ktnzG"
   },
   "source": [
    "This can be found by finding the length of the `words` list."
   ]
  },
  {
   "cell_type": "markdown",
   "metadata": {
    "id": "Ome93kmzk2tU"
   },
   "source": [
    "---\n",
    "### 10. How many unique words are there in the text?\n",
    "\n",
    "Unique words are also called **types** in NLP."
   ]
  },
  {
   "cell_type": "code",
   "execution_count": 119,
   "metadata": {
    "id": "C2rJYlgekqkL"
   },
   "outputs": [],
   "source": [
    "#############################################################\n",
    "# TO DO\n",
    "# # Count the unique words in the list.\n",
    "#############################################################\n",
    "# Type your code below this line\n",
    "unq_wrd = set(string_lst2)\n",
    "    "
   ]
  },
  {
   "cell_type": "code",
   "execution_count": 122,
   "metadata": {},
   "outputs": [
    {
     "name": "stdout",
     "output_type": "stream",
     "text": [
      "{'', 'thistle', 'this?”', 'certainly', 'surprise', 'you’re', 'sense', 'bats?”', 'to-day', 'week', 'Geography', 'seems,”', 'feet', 'White', 'executed', 'baby', 'prize', 'whole', 'newspapers', 'slipped', 'confusing.”', 'furrow', 'sounded', 'flustered', 'And', 'had', 'line', 'half', 'shrinking', 'fire', 'spell', 'can’t', 'Dodo', 'ennyworth', 'letter', 'pieces', 'us', 'saw', 'or', 'followed', 'goose', 'fun!”', 'size,”', '“Nobody', 'Shark', 'loudly', 'bad', 'effect', 'cup,”', 'least', 'be,”', 'hate—C', 'Stop', '“That’s', 'wildly', 'music', 'cup', '“’Tis', 'patriotic', 'knuckles', 'remember,”', 'bat', 'gone', 'Was', 'best', '“Nonsense!”', 'already', 'result', 'sleep', 'When', 'bowed', 'three', 'stupid?”', 'hard', 'moving', 'cheerfully', '“After', 'creatures,”', 'Pat', 'way—never', 'executioner’s', 'precious', 'sing?”', 'against', 'better;”', 'liked', 'do,”', 'why', 'remained', '“Why,”', 'four', 'full', 'Down', 'wonder', '“Shall', 'learned', 'Half-past', 'she’d', 'is—oh', '“or', 'either', 'lose', 'larger', 'these', 'messages', 'quietly', '“I—I', '“That', 'gloves', 'pairs', 'turns', 'to?”', '“Which', 'passed', 'people', 'advisable—’”', 'sharply', 'denying', 'puppy', 'speech', 'goes', 'boldly', 'concluded', 'howled', 'Here', 'players', 'accustomed', 'plainly', 'glad', 'cry', 'yelled', 'disagree', '“My', 'lazily', 'somebody', 'earth', 'work', 'riddle', 'M?”', 'top', 'better', 'noticed', 'chuckled', 'walk', 'world', 'I’ve', 'about', 'asking', 'put', '“Sure', 'The', '“Everybody', 'There’s', 'always', 'clinging', 'for?”', 'bark', '“any', 'howling', 'cucumber-frames', '“DRINK', 'Classics', 'well', 'window.”', 'believe', '“Oh', 'Stigand', 'smile', 'growing', 'though', 'disobey', 'bats', 'since', 'listening', '“till', '“Does', 'fashion.”', '“Curiouser', 'that?”', 'Little', 'uncivil', 'hoping', 'QUEEN', '“If', 'Digging', 'shillings', 'neck', 'own', 'sang', 'brass', 'looked', 'rushed', 'yourself', 'poky', 'cur', 'remarked', 'much!”', 'again:—', 'clear', 'How', 'mallets', 'fellow?”', 'understood', 'fighting', 'back', '“living', 'daughter', 'Latitude', 'faint', '“—I', 'long', 'inquired', 'gently', 'It', 'meekly', 'expression', 'heard', 'you?_”', '‘Uglification,’”', 'offer', 'sulkily', 'hardly', 'cold', 'from', 'of', 'rude', 'I’m', 'he’s', '“All', '“But', '“Very', '“no', 'yours', 'offended!”', '“Yes,”', 'wood—(she', 'wherever', 'into', 'hanging', 'On', '“—where’s', 'here.”', 'seen', 'among', 'venture', 'twinkling', 'Good-bye', 'herself', 'used—and', 'boxed', 'case', 'words.”', 'history', 'again?”', 'cause', 'axes,”', 'Tea-Party', 'piece', 'coaxing', 'comfits', 'wandered', 'sort', 'wants', 'shut', 'course?”', 'green', 'railway,”', 'toast', 'Last', 'telescope', 'Magpie', 'In', 'life', 'understand', 'squeezed', 'older', 'think!”', 'sizes', 'First', 'Distraction', 'butterfly', 'obliged', '“which', 'crossed', 'curtsey', 'new', 'bathing', 'yet,”', 'Fender', 'course,”', '“you', 'garden_.’”', 'might', 'something!”', 'joined', 'serpent!”', 'living', 'thing,”', 'crowd', 'Father', 'felt', 'name', 'indeed!”', 'snail', 'worm', 'most', 'together!”', 'ferrets', 'strange', 'sat', 'them,”', 'deal', '“You’d', 'is—‘Be', 'arrow', 'you!”', 'recognised', 'unless', 'summer', 'tricks', '“Whoever', 'cat,”', 'sea,”', 'share', 'leaves', '“there’s', 'It’s', 'see,”', 'beast', 'sitting', 'inside', 'hit', 'meet', 'gardeners', 'Uglification', 'wanted', 'inches', '“Serpent!”', 'chimney', 'banquet—', 'else’—but', 'Beautiful', 'wild', 'mouse—O', 'heavy', 'annoy', 'ME”', 'IX', 'cutting,”', 'acceptance', 'only', 'still', 'grey', 'moved', 'said—”', 'deserved', 'presents', 'skimming', 'draw', 'far', '“Wow', 'frying-pan', 'sisters,”', 'deep', 'ought', 'doors', 'high', 'low', 'birds', 'fetch', '“Hush', 'conquest', 'no', 'surprised', 'led', 'righthand', 'Five', 'school', '“Back', 'fond', 'pebbles', 'should', 'until', '“Are', 'brown', 'little!”', 'downward', 'so', 'couples', 'minute!”', 'clean', 'lamps', 'right?”', 'banks', 'bit', 'began', 'directions', 'morning', 'exactly', '“One', '“to', 'witness,”', 'English,”', 'over!”', 'sometimes', 'crawled', '“—Mystery', 'any', 'witness', '“Herald', '‘Who', 'existence', 'smaller', 'sticks', 'beheading', 'paw', '‘Up', '‘What', 'questions', 'tidy', 'yards', 'key', 'rubbing', 'did!”', 'enough', 'voice', 'keep', 'longer', 'But', 'perhaps', 'first,”', 'each', 'hoarsely', 'merrily', 'son', 'Pigeon', '“Boots', 'instead', 'is', 'simple', 'sir', 'master', '“—so', 'about,”', 'personal', 'raven', 'making', 'pulled', 'natural', 'examining', '“And', 'standing', 'in', 'school,”', 'done.”', 'King’s', 'more', 'Said', 'on!’', 'resource', 'suppose', 'officers', 'twinkle_—”', 'noise', 'porpoise?’”', 'peeping', 'hear', 'hand', '‘moral,’', 'person', '“Found', 'without—Maybe', 'sun', 'mayn’t', 'bent', 'croquet', 'us!’”', 'agony', 'shouldn’t', 'hatter.”', 'darkness', 'chin', 'fifth', 'murdering', 'So', 'HEARTS', 'Mouse', 'hearth', 'alive', 'hold', 'lessons,”', 'X', 'Hatter’s', 'Queen', '“than', '“Do', 'idiotic!”', 'ears', 'wow!”', 'Bill', 'invitation', 'breathe.”', 'pair', '“You’re', 'fright', 'quickly', 'pause', 'same', 'thinking', 'Off', 'way:—', 'Footman’s', '“for', 'rush', 'who', 'CHAPTER', 'steady', 'escape', 'March', 'removed!”', 'removed,”', 'sobbing', 'help', 'oh', 'grin,”', 'completely', 'fishes', 'bristling', 'getting!”', 'D,”', 'snatch', 'Writhing', 'passionate', 'run', 'hint', 'sternly', 'again,”', 'bee,”', 'OF', 'one', 'London', 'Eaglet', 'roof', 'Mock', 'know!”', 'on!”', 'these?_”', 'lay', 'grinned', '“Then', 'pig,”', 'shoes', 'ago', 'music.”', 'slate', 'girls', 'possibly', 'explained,”', 'T!”', '“Can’t', 'ridiculous', 'remark', 'jury,’', 'it_,”', 'Seven', 'I', 'star-fish,”', 'I!”', 'forwards', 'towards', 'splash', 'something', 'particular—Here', 'centre', 'Beau—ootiful', 'strings', 'minute', 'asked', '“We', '“that’s', 'her', 'pencil', 'happen', 'shining', 'cautiously', 'wander', 'haven’t', 'off?”', 'moral', 'chains', 'splashing', 'severely', 'cunning', 'instantly', 'permitted', 'begin', '“what', 'garden', 'to', 'coming', 'thump', 'execution', 'Twinkle', 'way', '“Poor', 'dare', 'executions', 'court,”', 'stairs', 'as', 'continued', 'question', 'attempts', 'That', 'treat', 'Advice', 'room', 'when', 'They', 'room!”', 'spoon', 'day.”', 'upright', 'alarmed', 'land', 'little', 'young', 'drowned', 'pie—”', 'did,”', 'draw,”', 'dancing.”', 'toes.”', 'never”', 'kindly', 'shrill', 'lines!”', 'indeed', 'Come', 'if', 'along', '“Come', '“I’ve', 'free', 'mouse!”', 'Longitude', 'advise', 'an', 'down—Here', 'doorway', 'mushroom', 'be!”', 'trotting', 'waving', 'night', 'picked', 'dear!”', 'right,”', 'to.”', '“Call', 'bottle', 'flock', '“Right', 'railway', 'first', 'advantage', 'timidly', 'sighed', 'Derision.”', 'together', 'yet—it’s', 'may', 'throat,”', 'Drawling', 'knew', 'yet.”', 'pence', 'particular', 'such', 'alone', 'forgetting', 'sound', 'sugar', '“some', 'any,”', 'able', '“An', 'writing-desks', 'just', 'tumbling', 'excellent', 'However', 'get', 'rest', 'executioner', 'shifting', '“are', 'running', 'ground.”', 'whiles.”', 'Caucus-race?”', 'bottom', 'down', 'large', 'see—how', 'the', 'enough!”', 'roared', '‘’_Tis', 'overhead', 'pleases!”', '“The', 'lesson-book', '“Who', 'ugly', 'footman', 'shrimp', 'treacle', 'hair', 'Miss', 'can', 'suet', 'interrupting', 'unwillingly', 'One', 'near', 'learning', 'tail', 'far,”', 'Hush!”', 'rattling', 'box—', 'waited', 'ordering', 'one,”', 'allow', 'treacle-well.”', 'mark', 'curious!”', 'wouldn’t', 'sobs', 'then?”', 'eat’', 'crept', 'isn’t', 'nasty', 'cats.”', 'day', 'none', 'waiting', 'seem', 'he’ll', 'comfortable', 'merely', '“why', 'telling', 'uncommonly', 'whatever', 'in?”', 'English', 'bed!”', 'smoke', 'have', 'see’!”', 'others', 'read', 'managed', 'kid', 'Dormouse’s', 'fur', 'it,”', 'chorus', 'box', 'Luckily', 'inwards', 'that,”', 'little_—’”', 'look', 'sorrow', '“Sixteenth,”', 'curious', 'THE', 'wig.”', 'true', 'go', 'knowledge', '“chop', 'time,”', 'middle', 'queer-shaped', 'tones', 'quiet', 'order', 'losing', 'here!”', 'lessen', 'station', 'dried', 'by', 'out', 'above', 'repeated', 'second', '“Twenty-four', 'frog', 'Who', 'lately', 'walking', 'never', 'being', 'didn’t!”', '“Exactly', 'dogs?”', 'bear', 'say', 'notion', 'whiting,”', 'mad.”', 'calling', 'accusation!”', 'timid', 'speak—and', 'pale', 'voices—“Hold', 'red', 'breathe', 'pounds', 'slates', 'what?”', 'up', 'suit', 'stupid', 'Normans—’', 'interesting', 'fact', 'largest', 'happening', 'pointed', 'clearly,”', 'finish', 'beautiful', 'trying—”', 'not?”', 'care', 'mice', 'remedies—”', 'ventured', 'was,”', 'it', 'processions', 'plenty', 'curled', 'coast', 'knocking,”', 'Sounds', 'seems', 'called', 'slowly', 'scrambling', 'roughly', 'simply', 'stood', 'guard', 'easy', 'Foot', 'flamingo', 'unlocking', 'noticing', 'two', 'strength', 'pardon!”', 'parts', 'for?’”', 'playing', '“Off', 'whose', 'before', 'confusion', 'marked', 'March.”', 'yours.’”', 'bright-eyed', 'mouse—to', 'minutes', 'fading', 'suddenly', 'glanced', 'idea', 'stupidly', 'she’s', 'Lobster', 'bone', 'child?”', 'what', 'Hardly', 'cauldron', 'a-piece', 'You', 'No', 'trumpet', 'you', 'figure,”', 'favoured', 'lived', 'otherwise.’”', 'position', 'break', 'all?”', 'whom', 'stretching', 'sudden', 'tails', 'law', 'rate', 'both', 'is—‘Take', 'tureen', 'peeped', 'eyes', '’em', 'fond—of—of', 'not.”', 'usual,”', 'grazed', 'spot.”', 'executed.”', 'dead', 'is—‘Oh', 'Mind', 'grinning', '“How', '“Thinking', 'tea,”', 'twelfth?”', 'oneself', 'this,”', 'tremulous', 'Cat’s', 'tried', 'Alice’s', 'far!”', 'yer', 'somewhere', 'everything', 'twenty', 'Which', 'great', 'you—are', 'wondering', '‘I’ll', 'lonely', 'knelt', 'parchment', '“Well', 'teaching', 'straightened', 'puzzled', 'that!”', 'cost', 'fast', 'variations', 'said', 'passion', 'needs', 'anything', 'Lory', 'serpents', 'pity', 'Only', 'lying', 'sounds', 'encourage', 'afraid,”', 'sent', 'him_.”', 'tongue!”', 'anxiously', 'lips', 'certain', 'waiting!”', 'them!”', 'Everything', 'else', 'lad!—Here', '“Silence', 'attended', 'Pig!”', '‘purpose’?”', 'sorrow?”', 'submitted', 'perfectly', 'crying', 'stiff', 'useful', 'fifteen', 'Right', '“EAT', '“Serpent', 'wandering', 'bawled', 'denies', 'mustard-mine', 'invited,”', '“Perhaps', '“allow', 'face—and', 'found', '“You’ll', 'shoulders', 'yet', 'trees', 'tucked', 'subject', 'rule', 'body', 'golden', 'nursing', 'their', 'hope', 'animals', 'many', 'Knave', 'table', 'Soup', 'twelve', 'histories', 'things—”', 'let', 'below!”', 'tiptoe', 'notice', 'alone!”', 'croquet-ground', 'race-course', '“in', '“Reeling', '“Don’t', 'took', 'simpleton.”', 'whiskers', 'another', 'evidently', 'than', 'nice', 'a', 'shilling', 'that', 'sage', '“Of', 'it!”', 'yelp', 'tops', 'rose-tree', 'Would', 'archbishop', 'hurry', 'leading', 'friend', '“_That', 'pool', 'company', 'our', 'certainly,”', 'eagerly', 'tiny', 'plan', 'last!”', 'head—Brandy', 'added', 'brought', 'Where', 'shyly', 'through', 'straightening', 'content', 'clock', 'scale', 'treated', 'solemn', 'tougher', 'You’re', '“Chorus', 'fancied', 'modern', 'think.”', 'miss', 'Soup!”', '‘Twinkle', 'row', 'belong', 'French', 'jury-box,”', 'its', '“Stand', 'A', 'thick', 'wretched', 'skurried', '“Not', 'ground', 'exact', 'pocket', '“In', 'told', 'blasts', 'trembling', 'belongs', 'if—if', 'judge', 'try', 'head!”', 'treacle-well—eh', 'Tale', 'wow', 'you’ll', 'schoolroom', 'putting', 'you’d', 'Those', '“There’s', 'sharp', 'enough,”', 'changed', 'nervous', 'quite', 'crossly', 'Stretching', 'use', 'double', 'solemnly', 'Esq', 'leaning', 'turning', 'do!”', 'his', 'e—e—evening', 'learnt', 'you,”', 'hundred', 'finds', 'itself', 'again', 'sneezes', '‘_I', 'out.’', 'hide', 'muchness”—did', 'pattering', 'unpleasant', 'knocked', 'jumped', 'chance', 'suppose?”', 'set', 'daresay', 'presented', '‘I', 'better,”', 'rules', 'His', '“Mouse', 'jurors', 'come', 'home', 'myself.”', 'journey', 'morsel', 'nowhere', 'dreadfully', 'odd', 'tea—”', '“She', 'day,”', 'pleased', 'pleaded', 'cook', 'height', 'stay', 'altogether', 'Cheshire', 'buttered', 'this!_”', 'fancying', '“I’m', 'axis—”', 'flinging', 'earls', 'Alas', 'Antipathies', 'She’ll', 'tea-party', '“Only', 'creatures', 'upon', 'quarrelled', 'Owl', 'growl', 'everybody', '‘come', 'feathers', 'Dormouse', 'do', 'shall', 'That’ll', 'feel', 'circle', 'your', 'bread-and-butter—”', 'shore', 'begun', '“Fifteenth,”', 'executes', '“What', 'ME,”', 'that’s', 'sky', 'earnestly', 'arranged', 'speaking', 'here,”', 'gave', 'jurors.”', 'extras?”', '“Very,”', 'Time', 'hungry', 'join', 'went', 'ignorant', 'flapper', 'Christmas.”', 'done', 'boy', 'Fish-Footman', 'know—”', 'watching', 'wood,”', 'live', 'An', 'answered', '“I', 'scratching', 'deeply', 'Majesty!”', 'curiosity', 'fish)—and', 'circumstances', 'respect', 'uncomfortably', 'vanished', 'flower-beds', 'end', '‘French', 'dear', 'o’clock', 'sneezed', 'entrance', 'wriggling', 'dance?”', '“You!”', 'Duchess', 'thing!”', 'eye', 'dinner', 'pitied', 'Sends', 'Then', 'wasn’t', 'later', 'currants', 'happens', 'wags', 'printed', 'alarm', 'carrying', 'sentenced', 'enough—I', 'shoulder', 'jaw', 'Grief', 'washing', '“sit', 'opening', '“Please', 'feeling', 'soon', 'Bill!”', 'crouched', 'after', 'know.”', 'meant', '“Certainly', 'Off—”', 'Puss,”', '‘With', 'Caterpillar', 'been', 'comfort', 'rapped', 'leaving', 'piteous', 'all', 'muscular', 'writing-desk?”', 'carry', 'girl', 'child', '“For', 'thoughts', 'pleasing', 'Soon', 'sight', 'ointment—one', 'kind', 'jury', 'see', 'Run', '“Would', 'Soo—oop', 'makes', 'through,”', 'ordered', 'saying', 'jumping', 'me?”', 'producing', '“She’s', 'change', 'Rabbit', 'heels', 'smallest', 'denied', 'Improve', '“Let', 'hasn’t', 'game', 'song', 'confusing', 'invited', 'grunt,”', 'Suddenly', 'wore', 'cats!”', 'together.’”', 'sobbing,”', 'listen', 'well—”', 'means', 'listeners', '“Have', 'cushion', 'more.”', 'below', 'taught', 'Stole', '“Same', 'away!”', 'Caucus-race.”', 'shaking', 'wine,”', 'getting', 'straight', '“Seals', 'behind', 'man', '“They’re', 'he', 'won’t!”', 'tight', 'hat,”', 'so,”', 'violent', 'will', '“on', 'right', 'murder', 'begin?”', 'eggs', 'behind?”', 'now?”', 'away', 'dispute', 'hours', 'silence', 'too', '“leave', 'could', 'introduced', 'Duchess?”', 'is—‘Birds', 'you_.—Come', 'washing?”', 'tree', 'would', '“So', 'Morcar', 'thimble', 'story', 'procession', 'sluggard_,’”', 'fills', 'mouse—a', 'These', 'draggled', 'dancing', 'between', 'treading', 'busily', 'Always', 'tells', 'was', '“You', 'promise', 'crumbs', 'dreamy', 'small', '“Treacle,”', '“Too', 'argue', 'down,”', 'pardon', 'at', 'Turtle', 'CHORUS', 'present!”', 'used', 'beat', 'direction,”', 'up.”', 'dish', 'even', 'remain', 'Presently', 'stuff', 'write', 'feeble', 'almost', 'grown', 'they’re', 'figures!”', 'shook', 'on?”', 'washing_—extra.’”', 'outside', 'argument', 'Don’t', 'usual', 'business', 'like,”', 'exclaimed', 'Hearts', '“just', 'struck', 'we’ve', 'soldier', 'there', 'Shall', '“He', 'grass', 'diamonds', 'fly', 'pardoned.”', 'wash', 'she', 'impertinent,”', 'thoughtfully', 'paws', 'Now', 'Turtle.”', 'croqueting', 'beautifully', 'with', '“They', 'crash)—“Now', 'neat', 'nibbling', 'powdered', 'believe.”', 'machines', 'spoke', 'three.”', 'lovely', 'bring', 'think—”', 'worried', 'last', 'way?”', 'hopeful', 'wings', 'know?”', 'vinegar', 'say!”', 'ashamed', 'trial', 'terrier', 'busy', 'now.”', 'difficult', 'Long', 'shingle—will', '“With', 'words', 'now,”', 'shouted', 'ask.”', 'blacking', 'savage', 'take', 'moment', 'hall', 'roots', 'to-day?”', 'grave', 'prosecute', '“What’s', 'her,”', 'girl,”', 'camomile', 'settling', 'arguments', 'course.”', '’tis', 'time.”', 'oyster!”', 'worse', 'talk', 'English!”', 'hurried', 'Oh', 'worth', 'begins', 'beloved', 'Hearthrug', 'March—just', 'taste', 'seven', 'party', 'course', 'ceiling', 'baked', 'thousand', 'doing', 'succeeded', 'gravely', 'number', 'then', 'buttons', 'my', 'be', 'inclined', 'account', 'Quadrille', 'ring', 'sleep’', 'Edgar', 'court', 'then.”', '“When', 'pope', 'one—but', 'whisper', 'nurse', 'interrupted', 'stays', 'poured', 'knife', 'stay!”', 'rudeness', 'telescope.”', 'decided', 'needn’t', 'Very', 'magic', 'Paris', 'constant', 'know', 'blow', 'knocking', 'look-out', 'instance', 'heap', 'that.”', 'vote', 'where.”', 'with,”', 'politely', 'having', 'watch', 'conversation', 'queer', 'ear', 'dance', 'graceful', 'wasting', 'asleep,”', 'shriek', 'word', 'At', 'Duchess,”', 'staring', 'Waiting', 'label', 'aloud', 'ground—and', 'fat', 'creep', '“if', 'mine,”', 'alas', 'Conqueror', 'sea-shore—”', '“A', 'enough.”', 'choked', 'person!”', 'well,”', 'ran', 'drew', 'Footman', 'mine_,”', 'with?”', 'Canary', '“Your', 'oblong', '“Why', 'closer', 'Alice', 'replied', 'become', 'becoming', 'underneath', 'threw', 'indignantly', 'anger', 'Will', 'water', 'teacup', 'met', 'month', 'Tarts', 'various', 'books', 'me,”', 'together.”', 'then,”', 'woman—but', 'elbows', 'beginning', 'case,”', 'authority', 'rearing', '‘Edwin', 'advisable', 'manage', 'reduced', '“Two', 'thin—and', 'houses', 'be?”', 'While', '“It', 'twist', 'lit', '“let’s', 'moment’s', 'William', 'snappishly', 'before.”', 'several', 'mind', 'showing', 'find', 'remarks,”', 'terror', 'fell', 'Why', 'mad?”', 'growing.”', 'generally', 'because', 'works!”', 'elbow', 'what?_”', 'him', 'Indeed', 'tongue', 'out-of-the-way', 'didn’t', 'sighing', 'eyes.—“Tell', 'frowning', 'business,”', 'Never', '“poison,”', 'nine', 'delightful', 'backs', 'temper', 'talking', 'pet', 'hedgehogs', 'remarking', '“Speak', 'doubtfully', 'late', 'remember', 'drunk', 'Heads', 'difficulties', 'nearer', 'not', 'lie', 'gallons', 'present—at', 'nose', '“Ahem!”', 'wood', 'Cat,”', 'barking', 'shorter.”', 'Once', 'business!”', 'very', 'opened', 'Lizard', '‘He’s', 'tone', 'footmen', 'writing', 'known', 'minded', 'After', 'fan', 'kiss', 'see!”', 'experiment?”', 'decidedly', 'arches', 'comes', 'VI', 'not,”', 'civil', 'usually', 'courtiers', 'instead!”', 'under', 'remembered', 'now!”', 'bright', 'ancient', 'doth', 'porpoise', 'walked', 'less', 'wrapping', 'do.’', 'grin', 'open', 'ask', 'much,”', '‘Such', 'squeaking', 'deny', 'mustard', 'seriously', '“Go', 'lady', 'eats', 'courage', 'won’t', 'show', 'dark', 'learn', 'again!”', 'sneezing', 'digging', 'guess', 'pigs', 'M—”', 'afraid', 'catch', 'which', 'themselves', '“—that', 'made', 'good', 'questions.—How', 'There', 'drink', 'taken', 'good-natured', 'play', 'dry', 'considering', 'missed', 'uneasily', 'it—”', 'hair.”', 'few', 'bread-and-butter', 'dinn—”', 'holiday?”', 'screamed', 'guinea-pig', 'face', 'fire-irons', '“Cheshire', 'proper', '“Now', 'Quadrille?”', 'yawning', 'tired', 'reply', '“of', 'miserable', 'white', 'mean', 'me', 'cried', '“Hadn’t', 'ready', 'times', 'lobsters', 'welcome', 'whether', 'mine—a', 'takes', 'lest', 'of?”', 'baby—the', 'make', 'nonsense,”', 'once.”', 'am', 'side', 'sides', 'want', 'pepper', 'likely', 'they’ve', 'stand', 'mean,”', 'up,”', 'move', 'As', 'soldiers', 'angrily', 'three-legged', 'waste', 'awfully', 'upstairs', 'close', 'pictures', 'which?”', '“I’d', 'quicker', '“—but', 'directly', 'Hare', '“Yes!”', 'poor', 'Her', 'waist,”', 'sit', 'here_,”', 'yet?”', 'child!”', 'riddles', 'not!”', '“it’s', 'floor', '“You’ve', 'Dinah', 'nibbled', 'one’s', '“only', '“as', 'sort,”', 'father', 'execute', 'hot', 'has', 'trampled', 'did', 'hastily', 'lost', 'cats', 'custody', 'trembled', 'Two!”', 'I’d', 'Canterbury', 'sure', 'ordered;”', 'other', 'ledge', 'He', 'more!”', 'grow', 'vanishing', 'fun', 'accounts', 'different', 'meaning', 'difficulty', 'don’t', 'considered', 'vulgar', 'contemptuous', 'cake', 'offended', 'some', 'finished', 'arrived', 'kept', 'spite', '“but', 'them—“I', 'grins', 'it?”', '“Shy', 'Majesty,”', 'hated', 'honour!”', 'Do', 'air', 'lobster—”', 'she’ll', 'nicely', 'solid', 'folded', 'salmon', 'old', 'arm', 'Edwin', 'myself', 'remarks', '“arrum.”', 'begin.”', 'alternately', 'She', 'nest', 'pleasant', 'things?”', 'wind', 'bird,”', '“_Twinkle', 'caught', '“Their', 'stop', 'here', 'knowing', 'follows', 'corner—No', 'faster', 'contempt', '“lives', 'twinkle', 'Mabel', 'him—it', 'lesson', 'turned', 'Mad', '“From', 'doubt', 'that—only', 'dreadful,”', 'house!”', 'came', '“because', 'please', 'is!”', 'are', 'paint', 'swam', 'recovered', 'for.”', 'quarrelling', 'trouble', 'M', 'startled', '“and', 'Trims', 'got', 'now', 'taking', 'subjects', 'faces', 'salt', 'For', 'tell', 'consultation', '“No', 'blew', 'it.”', 'painting', '“either', '“Where’s', 'mouths', '“that', '“It’s', 'tea-time', 'fall', 'doubtful', 'untwist', 'swallow', 'proud', 'but', 'contemptuously', 'knot', 'All', 'feebly', 'six', 'talk,”', 'ten', 'off.”', 'humbly', 'fallen', 'what_?”', 'handsome', 'place', 'kick', 'fix', 'pig', 'lifted', 'changing', 'pressing', '“Explain', 'seaside', 'stretched', '“Ah', 'see.”', 'mind.”', 'bowing', '“_I', 'yesterday', 'over', 'trial’s', 'curtseying', 'singing', 'was!”', 'clever?”', 'stick', 'every', 'head’s', 'regular', 'window?”', 'answer', 'does', 'speak', 'croqueted', 'cheap', 'rightly', 'tea', 'ridge', 'reason', 'front', 'planning', 'looking', 'cheated', 'broken', 'words,”', 'absurd', 'chanced', 'important', 'opportunity', 'trying', 'short', 'hour', 'direction', 'editions', 'pretexts', '‘_How', 'lives', 'AND', 'sea', '“Turn', 'askance—', 'subdued', 'whiting', 'resting', 'hollow', 'muddle', 'next', 'and', 'thing', 'burnt', 'fact.”', 'nose!”', 'slates’ll', 'say?”', 'what’s', '“_Are', 'delight', 'youth,”', 'Pray', 'sing,”', 'part.”', '“Ten', 'mixed', '“Just', 'Fury', 'squeaked', 'across', 'encouraged', 'friends', 'before,”', 'says', 'impatiently', 'besides', 'Panther', 'It’ll', 'guessed', 'I’ll', 'nothing', 'soup', 'speak?”', 'violently', 'less_,”', 'story!”', 'shade', 'extremely', 'happened', '“much', 'like', 'least—at', 'frightened', 'is,”', '“_Stolen!_”', 'Tell', 'twinkle—’”', 'year', 'What', 'arms', 'Even', 'likes.”', 'cut', 'puzzle!”', 'meanwhile', 'matter', 'be’—or', 'wish', 'heads', 'honour', '“I’ll', 'them—”', 'turtles', 'follow', 'holding', 'provoking', 'rock', 'nearly', 'dreadful', 'complained', 'one_.”', 'know,”', 'they’d', '“the', 'round', 'longer!”', 'time', 'beating', '“we', 'throat!”', 'King', 'grumbled', 'puzzling', '“Hold', '“Is', 'elegant', 'choosing', '“how', 'capital', 'louder', 'consented', 'nobody', 'doesn’t', 'knows', 'rather', 'finished,”', 'softly', 'me_.”', 'twenty-four', 'proved', 'hearing', 'soft', '“I—I’m', 'thought', 'edge', '“at', 'shouting', 'anxious', 'ears—”', '“There', 'flower-pot', 'going', 'Game', 'within—a', 'Still', 'livery', 'Queen’s', 'age', '“nine', 'comfortably', 'sweet-tempered', 'favourite', 'flamingoes', 'Bill,”', 'mouth', 'once', 'growled', 'dropped', 'forgotten', 'say,”', 'isn’t,”', 'think', 'footsteps', 'house', 'Caucus-Race', 'safe', 'begun.”', 'give', 'them', 'undo', 'swimming', 'By', 'spectacles', '“Keep', 'puppy’s', 'children', 'those', 'touch', 'there’s', 'repeat', 'tie', '“Talking', 'beg', 'highest', 'usurpation', 'cheered', 'you—all', 'feather', 'wider', 'flat', 'door', 'like.”', 'on', 'left', 'ever,”', 'zigzag', 'stopped', 'often', 'much', 'assembled', 'secondly', 'love', 'This', 'carefully', 'Gryphon', 'till', 'luckily', 'caterpillar', 'distance', 'delighted', 'for', 'serpent', 'draw?”', 'Hatter', 'it’s', 'terribly', 'curving', 'spoke—fancy', 'Let', 'dull', 'trials', 'crowded', 'bite,”', 'grand', 'adventures', 'don’t!”', 'whispered', 'KING', 'knee', 'must', 'hedgehog', 'swallowing', 'flappers', 'Cat', 'belt', 'finger', 'however', 'cat', 'without', 'were', '“Dinah’ll', 'general', 'couldn’t', 'looking-glass', 'beds', 'shan’t', 'feet!”', 'wonder?”', 'checked', 'evening', 'there,”', 'cakes', 'seemed', 'finding', 'asleep', 'neither', 'sentence', 'sink', 'head', 'II', 'throw', 'curiouser!”', 'tears', 'crown', '“Yes', 'fairly,”', 'given', 'perhaps?”', 'dig', 'leave', '“Write', 'Ada,”', 'part', 'appeared', 'it’ll', 'roses', 'turn', 'scroll', 'this', 'shower', 'to-night', 'lessons', 'hoarse', 'say.”', 'possible', 'violence', 'figure', 'knock', 'perhaps,”', '“Pray', 'race', 'mouse', 'invent', 'rat-hole', 'off', 'pointing', '“Look', 'lodging', 'pronounced', 'silent', 'beheaded!”', 'it!—_That', '“O', 'them—all', 'appear', 'fancy', '“Change', 'mad', 'locks', '“it’ll', 'spoken', 'pinched', 'fear', 'do.”', 'faintly', '“Take', 'butter,”', 'closed', 'loud', 'where', '“‘Miss', 'promising', 'forepaws', 'VIII', 'seen—everything', 'trot', 'hands', 'scolded', 'that?—It', 'Atheling', 'Duck', 'tossing', 'sorts', 'pretend', '“Once', 'sour—and', 'kitchen', 'If', 'hadn’t', 'things—everything', 'ever', 'giddy.”', 'foot', 'interest', 'unfortunate', 'then!”', 'then!—Bill’s', 'sad', 'dear?”', 'bringing', 'dull!”', 'things', 'pattern', 'temper,”', 'we', '“explanations', 'all.”', 'breath', 'sharing', 'how', 'elbow.”', 'hookah', 'Laughing', 'Alice)—“and', 'stupidest', 'size', 'rising', '“really', 'proceed', 'pardon,”', 'Ah', 'remaining', 'names,”', 'hunting', 'eat', 'pressed', 'they', 'story.”', 'glass', 'while', 'muttered', 'explain', 'sing', 'leant', 'patience', 'really'}\n"
     ]
    }
   ],
   "source": [
    "print(unq_wrd)"
   ]
  },
  {
   "cell_type": "markdown",
   "metadata": {
    "id": "pmflXPVBt975"
   },
   "source": [
    "#### Hint:"
   ]
  },
  {
   "cell_type": "markdown",
   "metadata": {
    "id": "Q7zPnamct-1-"
   },
   "source": [
    "The `set` data type can be used to find unique values."
   ]
  },
  {
   "cell_type": "code",
   "execution_count": 130,
   "metadata": {
    "id": "r8yRAnOEG_6h"
   },
   "outputs": [],
   "source": [
    "\n",
    "common_dict = {}\n",
    "for common_wrd in string_lst2:\n",
    "    if common_wrd not in common_dict:\n",
    "        common_dict[common_wrd] = 0\n",
    "    common_dict[common_wrd]+=1"
   ]
  },
  {
   "cell_type": "code",
   "execution_count": 135,
   "metadata": {},
   "outputs": [
    {
     "name": "stdout",
     "output_type": "stream",
     "text": [
      "{'top': 5, 'of': 215, 'the': 624, 'house!”': 1, 'Which': 3, 'was': 167, 'very': 63, 'likely': 1, 'true': 1, 'Down': 1, 'down': 36, 'Would': 2, 'fall': 4, 'never': 20, 'come': 15, 'to': 295, 'an': 19, 'end': 6, '“I': 50, 'wonder': 8, 'how': 15, 'getting': 12, 'somewhere': 1, 'near': 8, 'centre': 1, 'earth': 3, 'Let': 3, 'me': 24, 'see': 27, 'that': 125, 'would': 25, 'several': 3, 'things': 15, 'this': 49, 'sort': 10, 'in': 155, 'her': 102, 'lessons': 2, 'schoolroom': 1, 'and': 322, 'knowledge': 3, 'as': 99, 'there': 19, 'no': 33, 'one': 35, 'listen': 3, 'still': 6, 'it': 197, 'good': 9, 'then': 23, 'I': 128, 'what': 48, 'Latitude': 1, 'or': 21, 'Longitude': 1, 'I’ve': 12, 'got': 20, 'to?”': 1, 'Alice': 172, 'had': 63, 'grand': 2, 'words': 10, 'say': 19, 'Presently': 1, 'she': 232, 'began': 32, 'again': 30, 'if': 27, 'shall': 11, 'right': 13, 'through': 7, 'with': 65, 'their': 22, 'heads': 4, 'downward': 1, 'The': 36, 'Antipathies': 1, 'think—”': 2, 'rather': 20, 'word': 5, '“—but': 1, 'have': 46, 'ask': 3, 'them': 32, 'name': 4, 'tried': 11, 'curtsey': 1, 'spoke—fancy': 1, 'curtseying': 1, 'you’re': 5, 'ignorant': 1, 'little': 67, 'girl': 1, 'she’ll': 1, 'think': 21, 'for': 50, 'asking': 3, 'No': 1, 'it’ll': 3, 'do': 24, 'talking': 10, '“Dinah’ll': 1, 'miss': 1, 'much': 15, 'to-night': 1, 'should': 20, 'think!”': 1, 'tea-time': 1, 'Dinah': 5, 'my': 27, 'dear': 8, 'wish': 10, 'you': 136, 'were': 33, 'here': 19, 'There': 8, 'are': 18, 'like': 31, 'a': 274, 'mouse': 5, 'know': 32, 'But': 8, 'cats': 5, 'eat': 8, 'bats': 2, 'wonder?”': 2, 'And': 26, 'dreamy': 1, 'way': 26, '“Do': 3, 'Do': 4, 'bats?”': 1, 'either': 2, 'question': 6, 'didn’t': 5, 'matter': 3, 'which': 14, 'put': 13, 'She': 16, 'felt': 13, 'walking': 3, 'hand': 12, 'saying': 5, 'earnestly': 1, 'thump': 2, 'came': 20, 'upon': 11, 'heap': 1, 'sticks': 1, 'dry': 5, 'leaves': 3, 'looked': 19, 'up': 46, 'but': 34, 'all': 65, 'dark': 2, 'overhead': 1, 'before': 12, 'another': 10, 'not': 51, 'moment': 12, 'be': 67, 'lost': 2, 'away': 12, 'went': 41, 'wind': 1, 'whiskers': 2, 'late': 3, 'it’s': 11, 'getting!”': 1, 'close': 9, 'behind': 6, 'when': 29, 'herself': 38, 'long': 13, 'low': 5, 'hall': 5, 'lit': 1, 'by': 22, 'row': 1, 'lamps': 1, 'hanging': 2, 'been': 16, 'side': 8, 'other': 14, 'trying': 8, 'every': 7, 'get': 22, 'out': 53, 'Suddenly': 1, 'three-legged': 1, 'table': 5, 'made': 13, 'solid': 1, 'first': 19, 'thought': 41, 'might': 15, 'belong': 1, 'doors': 1, 'at': 96, 'any': 15, 'rate': 3, 'open': 2, 'However': 9, 'on': 74, 'second': 3, 'door': 15, 'about': 41, 'fifteen': 1, 'inches': 3, 'high': 6, 'larger': 4, 'than': 10, 'rat-hole': 1, 'knelt': 1, 'along': 4, 'wander': 1, 'among': 5, 'those': 3, 'beds': 1, 'bright': 5, 'doorway': 1, '“and': 13, 'even': 7, 'head': 18, 'go': 16, 'through,”': 1, 'could': 34, 'shut': 3, 'telescope': 2, 'only': 19, 'happened': 4, 'lately': 1, 'begun': 2, 'few': 5, 'back': 16, 'half': 8, 'hoping': 1, 'find': 11, 'key': 3, 'time': 28, 'found': 12, 'bottle': 8, '“which': 1, 'certainly': 5, 'label': 2, '“DRINK': 1, 'ME,”': 1, 'beautifully': 2, 'printed': 1, 'large': 13, 'going': 14, 'hurry': 3, '“No': 2, 'I’ll': 14, 'look': 9, 'first,”': 1, 'said': 183, 'nice': 3, 'histories': 1, 'children': 2, 'who': 19, 'burnt': 1, 'remember': 6, 'simple': 2, 'rules': 2, 'friends': 1, 'taught': 2, 'cut': 4, 'your': 25, 'finger': 3, 'deeply': 4, 'knife': 1, 'usually': 1, 'marked': 3, '“poison,”': 1, 'is': 44, 'almost': 3, 'certain': 1, 'disagree': 1, 'taste': 2, 'finding': 2, 'fact': 3, 'mixed': 1, 'hot': 3, 'buttered': 1, 'toast': 1, 'soon': 11, 'finished': 1, 'off': 28, '': 20, 'telescope.”': 1, 'so': 49, 'indeed': 1, 'now': 21, 'ten': 2, 'face': 7, 'into': 32, 'lovely': 2, 'garden': 7, 'First': 2, 'however': 3, 'nervous': 2, '“for': 3, 'know,”': 4, 'then?”': 1, 'fancy': 2, 'ever': 9, 'having': 2, 'seen': 7, 'such': 21, 'thing': 22, 'After': 4, 'while': 9, 'nothing': 8, 'more': 25, 'decided': 2, 'forgotten': 3, 'golden': 5, 'quite': 24, 'plainly': 1, 'glass': 3, 'tired': 4, 'poor': 12, 'sharply': 2, 'advise': 1, 'leave': 2, 'minute!”': 1, 'generally': 5, 'sometimes': 2, 'scolded': 1, 'severely': 2, 'bring': 1, 'tears': 4, 'cheated': 1, 'game': 4, 'croquet': 1, 'playing': 2, 'against': 4, '“But': 10, 'use': 8, 'now,”': 2, '“to': 3, 'pretend': 1, 'two': 13, 'person!”': 1, 'Soon': 1, 'eye': 4, 'fell': 1, 'box': 2, 'lying': 3, 'under': 11, '“EAT': 1, 'ME”': 1, 'currants': 1, '“Well': 8, 'it,”': 9, 'makes': 4, 'grow': 6, 'smaller': 2, 'can': 15, 'creep': 1, 'way?”': 1, 'holding': 2, 'feel': 5, 'size': 6, 'sure': 11, 'happens': 4, 'eats': 1, 'cake': 1, 'happen': 5, 'seemed': 11, 'dull': 1, 'stupid': 1, 'life': 4, 'CHAPTER': 5, 'II': 1, '“Curiouser': 1, 'curiouser!”': 1, 'cried': 11, 'surprised': 5, 'opening': 1, 'largest': 1, 'Good-bye': 1, 'feet!”': 1, 'sight': 5, 'they': 47, 'far': 6, '“Oh': 7, 'feet': 10, 'shan’t': 2, 'able': 1, 'great': 13, 'deal': 6, 'too': 9, 'trouble': 2, 'kind': 4, 'them,”': 2, '“or': 3, 'perhaps': 5, 'won’t': 10, 'walk': 1, 'Christmas.”': 1, 'planning': 1, 'manage': 3, '“They': 5, 'must': 16, 'presents': 1, 'one’s': 1, 'own': 7, 'odd': 1, 'directions': 2, 'will': 12, 'Alice’s': 4, 'Right': 1, 'Foot': 1, 'Esq': 1, 'Hearthrug': 1, 'Fender': 1, 'nine': 3, 'once': 12, 'took': 15, 'you,”': 2, 'well': 13, 'crying': 1, 'Stop': 1, 'gallons': 1, 'until': 2, 'pool': 3, 'round': 15, 'hastily': 7, 'dried': 1, 'eyes': 9, 'coming': 4, 'It': 6, 'White': 6, 'fan': 7, 'he': 39, 'trotting': 1, 'Duchess': 14, 'Oh': 1, 'savage': 2, 'kept': 3, 'waiting!”': 1, 'Rabbit': 10, 'timid': 2, 'voice': 17, '“If': 7, 'please': 4, 'skurried': 1, 'darkness': 1, 'hard': 3, 'gloves': 4, 'queer': 4, 'everything': 4, 'to-day': 1, 'yesterday': 3, 'just': 20, 'usual': 3, 'same': 7, 'morning': 1, 'feeling': 4, 'world': 2, 'am': 10, 'Ah': 1, 'that’s': 7, 'puzzle!”': 1, 'changed': 4, '“I’m': 11, 'I’m': 15, 'Ada,”': 1, 'hair': 4, 'goes': 5, 'Mabel': 3, 'sorts': 3, 'oh': 3, 'knows': 1, 'puzzling': 2, 'try': 6, 'used': 6, 'four': 1, 'times': 3, 'seven': 1, 'is—oh': 1, 'twenty': 1, 'Geography': 1, 'London': 1, 'capital': 2, 'Paris': 2, '‘_How': 1, 'doth': 2, 'little_—’”': 1, 'repeat': 3, 'sounded': 3, 'hoarse': 2, 'strange': 1, 'Improve': 1, 'his': 40, 'shining': 1, 'tail': 4, 'On': 4, 'scale': 1, '“How': 8, 'cheerfully': 1, 'seems': 3, 'grin': 2, 'welcome': 1, 'fishes': 1, 'words,”': 1, 'live': 3, 'poky': 1, 'house': 7, 'next': 8, 'mind': 1, 'stay': 3, 'It’ll': 1, '‘Who': 1, 'Tell': 2, 'till': 8, 'somebody': 1, 'else’—but': 1, 'dear!”': 1, 'sudden': 4, 'being': 8, 'alone': 2, 'here!”': 1, 'As': 5, 'hands': 2, 'done': 7, 'that?”': 5, 'nearly': 2, 'guess': 1, 'cause': 2, 'change': 6, 'glad': 8, 'existence': 1, 'alas': 1, 'ever,”': 1, 'child': 4, 'small': 3, 'splash': 1, 'chin': 4, 'salt': 2, 'water': 2, 'Her': 3, 'idea': 9, 'railway,”': 1, 'seaside': 1, 'English': 1, 'coast': 1, 'number': 2, 'bathing': 1, 'machines': 1, 'lodging': 1, 'houses': 1, 'railway': 1, 'station': 1, 'hadn’t': 1, 'much!”': 2, 'swam': 5, 'drowned': 1, 'That': 2, 'nearer': 2, 'make': 7, 'Everything': 1, 'out-of-the-way': 1, '“O': 1, 'Mouse': 17, 'speaking': 3, 'mouse—to': 1, 'mouse—a': 1, 'mouse—O': 1, 'mouse!”': 1, '“Perhaps': 1, 'doesn’t': 6, 'understand': 4, 'English,”': 1, 'daresay': 1, 'history': 2, 'clear': 2, 'notion': 2, 'ago': 1, 'sentence': 3, 'French': 2, 'lesson-book': 1, 'gave': 4, 'fright': 1, 'beg': 5, 'pardon!”': 2, 'afraid': 6, 'cats.”': 1, '“Not': 4, 'cats!”': 1, 'shrill': 1, 'passionate': 1, '“Would': 2, 'yet': 3, 'show': 2, 'our': 4, 'cat': 4, 'you’d': 4, 'quiet': 2, 'thing,”': 2, 'lazily': 1, 'paws': 2, 'washing': 1, 'face—and': 1, 'soft': 1, 'bristling': 1, 'not.”': 2, '“We': 3, 'indeed!”': 2, 'trembling': 4, 'hated': 1, 'nasty': 1, 'vulgar': 1, 'Don’t': 2, 'let': 3, 'hear': 3, 'conversation': 6, '“Are': 3, 'you—are': 1, 'fond—of—of': 1, 'dogs?”': 1, 'did': 27, 'A': 5, 'bright-eyed': 1, 'terrier': 1, 'throw': 1, 'sit': 3, 'its': 36, 'dinner': 1, 'says': 4, 'useful': 1, 'worth': 2, 'hundred': 1, 'pounds': 1, 'He': 5, 'offended': 3, 'again!”': 4, 'For': 5, 'swimming': 1, 'So': 9, 'called': 7, 'softly': 1, 'after': 12, '“Mouse': 1, 'we': 6, 'heard': 10, 'turned': 5, 'slowly': 6, '“Let': 2, 'us': 6, 'shore': 3, 'tell': 14, 'birds': 8, 'animals': 4, 'fallen': 2, 'Duck': 3, 'led': 2, 'whole': 5, 'party': 3, 'Caucus-Race': 1, 'Long': 1, 'Tale': 1, 'draggled': 1, 'feathers': 1, 'fur': 2, 'clinging': 1, 'consultation': 1, 'minutes': 4, 'known': 1, 'Indeed': 1, 'argument': 3, 'older': 1, 'better;”': 1, 'allow': 1, 'age': 2, 'At': 4, 'last': 17, 'person': 1, 'authority': 2, 'enough!”': 1, 'They': 4, 'sat': 6, 'ring': 2, 'catch': 2, 'bad': 1, 'cold': 1, '“Ahem!”': 1, 'important': 2, 'air': 5, '“are': 1, 'ready': 4, 'This': 10, 'Conqueror': 1, 'whose': 2, 'favoured': 1, 'pope': 1, 'submitted': 1, 'accustomed': 1, 'usurpation': 1, 'conquest': 1, 'Edwin': 1, 'Morcar': 2, 'earls': 1, 'speak?”': 1, 'I!”': 1, 'Lory': 3, 'did,”': 3, '“—I': 1, 'proceed': 1, '‘Edwin': 1, 'Stigand': 1, 'patriotic': 1, 'archbishop': 1, 'Canterbury': 1, 'advisable—’”': 1, '“Found': 2, 'what_?”': 1, 'it_,”': 1, 'replied': 14, 'crossly': 1, '“of': 1, 'course': 10, '“it’s': 2, 'frog': 2, 'worm': 1, 'advisable': 1, 'Edgar': 1, 'Atheling': 1, 'meet': 2, 'William': 2, 'offer': 2, 'him': 9, 'Normans—’': 1, 'How': 2, 'dear?”': 1, 'continued': 6, 'all.”': 1, '“In': 4, 'case,”': 1, 'Dodo': 6, 'solemnly': 2, 'rising': 1, 'move': 2, 'remedies—”': 1, '“Speak': 2, 'English!”': 1, 'Eaglet': 2, 'don’t': 22, 'meaning': 2, 'bent': 1, 'hide': 1, 'smile': 1, 'some': 19, 'best': 4, 'Caucus-race.”': 1, '“What': 18, 'Caucus-race?”': 1, 'wanted': 2, 'speak': 3, 'else': 4, 'inclined': 1, 'anything': 8, '“Why,”': 1, '“the': 4, 'explain': 4, 'it.”': 3, 'managed': 3, 'race-course': 1, 'circle': 1, 'exact': 1, '“One': 3, 'three': 11, 'liked': 3, 'easy': 2, 'race': 2, 'over': 18, 'suddenly': 3, '“The': 6, 'over!”': 2, 'pressed': 3, 'pictures': 1, 'rest': 3, 'waited': 3, 'silence': 8, 'crowded': 2, 'calling': 1, 'pocket': 4, 'pulled': 1, 'comfits': 1, 'luckily': 1, 'a-piece': 1, 'prize': 1, '“Of': 5, 'course,”': 1, 'gravely': 2, 'presented': 1, 'thimble': 2, 'acceptance': 1, 'elegant': 1, 'cheered': 1, 'absurd': 2, 'grave': 1, 'simply': 1, 'bowed': 2, 'looking': 18, 'solemn': 2, 'confusion': 4, 'complained': 1, 'hate—C': 1, 'D,”': 1, 'added': 6, 'whisper': 1, 'sighing': 2, '“It': 10, 'certainly,”': 1, 'law': 2, 'prosecute': 1, 'you_.—Come': 1, 'take': 9, 'do.’': 1, 'Said': 2, 'cur': 1, '‘Such': 1, 'trial': 1, '‘I’ll': 2, 'judge': 2, 'jury,’': 1, 'cunning': 1, 'old': 4, 'Fury': 1, 'thinking': 5, 'of?”': 1, 'pardon,”': 1, 'humbly': 1, '“you': 2, 'fifth': 1, 'anxiously': 6, 'help': 6, 'undo': 1, 'it!”': 5, 'sort,”': 1, 'know!”': 2, 'growled': 1, 'reply': 2, '“Please': 3, 'finish': 4, 'story!”': 1, 'shook': 3, 'impatiently': 1, 'walked': 6, 'quicker': 1, 'pity': 1, 'wouldn’t': 5, 'stay!”': 1, 'sighed': 3, 'daughter': 1, '“Ah': 4, 'lesson': 1, 'lose': 1, 'snappishly': 1, '“You’re': 2, 'enough': 7, 'patience': 1, 'oyster!”': 1, 'do!”': 1, 'aloud': 2, 'eagerly': 4, 'always': 7, 'talk': 3, 'pet': 1, 'can’t': 10, 'Why': 4, 'hurried': 6, 'Magpie': 1, 'wrapping': 1, 'itself': 4, 'suit': 2, 'throat!”': 1, 'Canary': 1, 'bed!”': 1, 'various': 1, 'pretexts': 1, 'moved': 2, 'left': 5, 'tone': 14, '“Nobody': 1, 'she’s': 1, 'more!”': 1, 'cry': 1, 'pattering': 2, 'footsteps': 2, 'distance': 3, 'story': 2, 'Sends': 1, 'Little': 1, 'Bill': 6, 'something': 7, 'She’ll': 1, 'executed': 4, 'ferrets': 1, 'pair': 3, 'white': 3, 'kid': 2, 'nowhere': 2, 'seen—everything': 1, 'since': 3, 'vanished': 2, 'completely': 1, 'Very': 1, 'noticed': 3, 'hunting': 2, 'doing': 2, 'Run': 1, 'home': 1, 'fetch': 2, 'direction': 2, 'pointed': 1, 'without': 10, 'he’ll': 1, 'finds': 1, 'I’d': 5, 'better': 3, 'neat': 1, 'brass': 1, 'knocking': 1, 'upstairs': 1, 'fear': 2, 'lest': 1, 'seems,”': 1, 'messages': 1, 'fancying': 1, '“‘Miss': 1, 'Come': 3, 'nurse': 1, 'out.’': 1, 'Only': 1, 'ordering': 1, 'people': 5, 'that!”': 2, 'By': 2, 'tidy': 1, 'room': 5, 'pairs': 1, 'tiny': 1, 'stood': 6, 'looking-glass': 1, 'lips': 1, 'interesting': 2, 'does': 4, 'hope': 2, 'drunk': 2, 'pressing': 1, 'ceiling': 1, '“That’s': 7, 'enough—I': 1, 'Alas': 1, 'growing': 5, 'effect': 2, 'Still': 1, 'resource': 1, 'arm': 7, 'whatever': 1, 'What': 2, 'become': 3, 'me?”': 1, 'Luckily': 1, 'magic': 1, 'full': 2, 'chance': 2, 'ordered': 2, 'mice': 1, 'yet—it’s': 1, 'curious': 4, 'middle': 4, 'write': 1, 'one—but': 1, 'grown': 3, 'That’ll': 1, 'comfort': 1, 'way—never': 1, 'woman—but': 1, 'there’s': 4, 'hardly': 4, 'making': 3, 'altogether': 3, 'Then': 4, 'stairs': 1, 'knew': 7, 'forgetting': 2, 'thousand': 1, 'opened': 5, 'inwards': 1, 'elbow': 1, 'window.”': 1, '“_That': 1, 'won’t!”': 1, 'waiting': 3, 'fancied': 1, 'snatch': 2, 'hold': 4, 'from': 12, 'concluded': 2, 'possible': 1, '“Sure': 3, 'Digging': 1, 'this!_”': 1, 'Sounds': 1, 'broken': 2, '“Now': 2, 'Pat': 1, 'what’s': 1, 'window?”': 1, 'yer': 2, 'honour!”': 1, 'pronounced': 1, '“arrum.”': 1, '“An': 1, 'goose': 1, 'Who': 2, 'saw': 4, 'fills': 1, 'honour': 1, 'cucumber-frames': 1, 'be!”': 1, 'want': 5, 'longer!”': 1, 'hearing': 3, 'together': 3, '“Where’s': 1, 'lad!—Here': 1, '’em': 2, 'corner—No': 1, 'tie': 1, 'particular—Here': 1, 'Heads': 1, 'below!”': 1, 'loud': 4, 'crash)—“Now': 1, 'that?—It': 1, 'it!—_That': 1, 'then!—Bill’s': 1, 'down—Here': 1, 'master': 2, '“Shy': 1, 'seem': 4, 'kick': 1, 'little!”': 1, 'drew': 3, 'foot': 3, 'chimney': 2, 'scratching': 1, 'scrambling': 1, 'above': 2, 'general': 1, 'chorus': 1, '“There': 5, 'Bill!”': 1, 'voices—“Hold': 1, 'head—Brandy': 1, 'Last': 1, 'feeble': 1, 'squeaking': 1, 'Bill,”': 1, 'flustered': 1, 'you—all': 1, 'comes': 1, 'set': 3, 'you!”': 1, 'dead': 1, 'instantly': 3, 'roof': 1, 'off.”': 1, 'minute': 9, 'moving': 3, 'shower': 1, 'pebbles': 1, 'rattling': 1, 'this,”': 1, 'shouted': 4, '“You’d': 1, 'cakes': 1, 'lay': 3, 'floor': 1, 'possibly': 1, 'shrinking': 1, 'directly': 1, 'outside': 1, 'Lizard': 1, 'rush': 1, 'safe': 2, 'thick': 1, 'wood': 4, 'do,”': 2, 'arranged': 1, 'difficulty': 2, 'smallest': 1, 'trees': 4, 'sharp': 4, 'bark': 2, 'feebly': 1, 'stretching': 1, 'paw': 2, 'touch': 1, '“Poor': 1, 'terribly': 1, 'frightened': 3, 'spite': 1, 'coaxing': 1, 'Hardly': 1, 'knowing': 1, 'picked': 1, 'bit': 5, 'stick': 2, 'yelp': 1, 'delight': 2, 'rushed': 1, 'keep': 5, 'run': 1, 'appeared': 2, 'heels': 1, 'trampled': 1, 'ran': 4, 'thistle': 1, 'forwards': 1, 'each': 5, 'barking': 1, 'hoarsely': 1, 'tongue': 1, 'mouth': 8, 'opportunity': 4, 'escape': 1, 'puppy’s': 1, 'faint': 1, '“And': 10, 'puppy': 1, 'was!”': 1, 'leant': 1, 'teaching': 1, 'tricks': 1, 'if—if': 1, 'see—how': 1, 'what?”': 1, 'drink': 1, 'circumstances': 1, 'both': 7, 'sides': 2, 'stretched': 1, 'tiptoe': 2, 'peeped': 2, 'edge': 2, 'caterpillar': 1, 'sitting': 3, 'arms': 3, 'folded': 2, 'quietly': 3, 'Advice': 1, 'Caterpillar': 15, 'hookah': 3, 'shyly': 1, '“I—I': 1, 'sir': 2, 'present—at': 1, 'least': 5, 'then.”': 1, 'mean': 6, 'sternly': 1, '“Explain': 1, 'myself': 1, 'see.”': 1, 'see,”': 1, 'clearly,”': 1, 'politely': 4, 'different': 2, 'sizes': 1, 'day': 7, 'confusing.”': 1, 'isn’t,”': 1, 'haven’t': 3, 'yet,”': 1, '“but': 9, 'butterfly': 1, 'you’ll': 2, 'me_.”': 1, '“You!”': 1, 'contemptuously': 1, '“Who': 2, 'you?_”': 1, 'brought': 1, 'beginning': 5, 'short': 2, 'remarks': 1, 'reason': 5, 'unpleasant': 1, 'say!”': 1, 'promising': 1, '“Keep': 1, 'temper,”': 1, '“Is': 2, 'all?”': 2, 'swallowing': 1, 'anger': 1, '“So': 2, 'used—and': 1, 'together!”': 1, '“Can’t': 1, 'things?”': 1, 'busy': 1, 'bee,”': 1, 'has': 2, 'right?”': 1, 'youth,”': 3, 'Father': 1, 'son': 1, 'perfectly': 4, 'none': 2, 'most': 2, 'uncommonly': 1, 'fat': 1, 'Pray': 2, 'sage': 1, 'grey': 1, 'locks': 1, 'ointment—one': 1, 'shilling': 1, 'box—': 1, 'tougher': 1, 'suet': 1, 'it?”': 4, 'father': 1, 'muscular': 1, 'strength': 1, 'jaw': 1, 'steady': 1, 'awfully': 1, 'clever?”': 1, 'answered': 2, 'questions': 2, 'enough,”': 1, 'stuff': 2, '“That': 2, 'right,”': 3, 'afraid,”': 1, 'timidly': 6, '“some': 1, 'be?”': 2, 'asked': 6, 'particular': 2, 'size,”': 1, '“only': 1, 'losing': 1, 'temper': 3, 'content': 1, 'now?”': 1, 'rearing': 1, 'upright': 1, 'spoke': 5, 'exactly': 2, 'pleaded': 1, 'piteous': 1, 'offended!”': 1, '“You’ll': 1, 'time,”': 3, 'mushroom': 2, 'crawled': 1, 'grass': 1, 'merely': 1, 'remarking': 1, 'shorter.”': 1, 'what?_”': 2, 'remained': 2, 'thoughtfully': 2, 'difficult': 1, 'which?”': 1, 'nibbled': 1, 'violent': 1, 'blow': 1, 'underneath': 1, 'struck': 1, 'work': 2, 'swallow': 1, 'morsel': 1, '“Come': 8, 'head’s': 1, 'free': 2, 'last!”': 1, 'sea': 3, 'green': 2, 'below': 1, 'where': 5, 'result': 1, 'follow': 1, 'delighted': 1, 'succeeded': 3, 'curving': 1, 'graceful': 1, 'zigzag': 1, 'tops': 1, 'wandering': 1, 'beating': 2, 'violently': 3, 'wings': 1, '“Serpent!”': 1, 'screamed': 2, 'Pigeon': 2, 'serpent!”': 1, 'indignantly': 4, 'alone!”': 1, '“Serpent': 1, 'repeated': 2, 'subdued': 1, 'them!”': 3, 'about,”': 1, '“I’ve': 5, 'roots': 1, 'banks': 1, 'serpents': 3, 'There’s': 1, 'pleasing': 1, 'puzzled': 4, 'look-out': 1, 'night': 1, 'taken': 2, 'highest': 1, 'tree': 2, 'wood,”': 1, 'needs': 1, 'wriggling': 1, 'invent': 1, 'something!”': 1, '“I—I’m': 1, 'girl,”': 1, 'doubtfully': 1, 'remembered': 1, 'contempt': 1, 'many': 4, 'girls': 2, 'denying': 1, 'suppose': 4, 'telling': 2, 'eggs': 3, 'they’re': 3, 'serpent': 1, 'say.”': 2, 'new': 2, 'silent': 3, 'shouldn’t': 3, 'nest': 1, 'crouched': 1, 'stop': 1, 'untwist': 1, 'carefully': 1, 'nibbling': 2, 'bringing': 1, 'height': 1, 'plan': 1, '“Whoever': 1, 'lives': 2, 'there,”': 1, '“it’ll': 1, 'righthand': 1, 'venture': 1, 'VI': 1, 'wondering': 4, 'wood—(she': 1, 'considered': 1, 'footman': 1, 'because': 4, 'livery': 1, 'fish)—and': 1, 'rapped': 1, 'loudly': 2, 'knuckles': 1, 'footmen': 1, 'powdered': 1, 'curled': 1, 'crept': 1, 'Fish-Footman': 1, 'producing': 1, 'letter': 1, '“For': 1, 'An': 1, 'invitation': 1, 'changing': 1, 'order': 1, '“From': 1, 'Queen': 23, 'staring': 2, 'stupidly': 1, 'sky': 1, 'knocked': 1, '“There’s': 4, 'knocking,”': 2, 'Footman': 3, 'secondly': 2, 'noise': 2, 'inside': 2, 'within—a': 1, 'constant': 1, 'howling': 2, 'sneezing': 2, 'pieces': 1, 'then,”': 1, '“how': 1, 'in?”': 3, 'sense': 2, 'knock': 1, 'decidedly': 3, 'uncivil': 1, 'answer': 3, 'questions.—How': 1, 'skimming': 1, 'straight': 1, 'Footman’s': 1, 'grazed': 1, 'nose': 2, 'louder': 1, '“_Are': 1, 'dreadful,”': 1, 'muttered': 2, 'creatures': 2, 'argue': 1, 'remark': 4, 'variations': 1, 'here,”': 2, '“on': 1, 'idiotic!”': 1, 'kitchen': 3, 'smoke': 1, 'nursing': 2, 'baby': 7, 'cook': 3, 'leaning': 1, 'fire': 1, 'Even': 1, 'sneezed': 1, 'alternately': 1, 'moment’s': 1, 'pause': 1, 'hearth': 1, 'grinning': 1, 'ear': 4, 'me,”': 3, 'grins': 1, '“It’s': 5, 'Cheshire': 4, 'cat,”': 1, 'why': 2, 'Pig!”': 1, 'violence': 1, 'courage': 2, 'again:—': 1, 'grinned': 2, 'pleased': 6, '“You': 15, 'much,”': 3, 'fact.”': 1, 'fix': 1, 'cauldron': 1, 'soup': 1, 'baby—the': 1, 'fire-irons': 1, 'followed': 5, 'hit': 1, 'already': 2, 'agony': 1, 'terror': 1, 'precious': 1, 'nose!”': 1, 'everybody': 2, 'minded': 1, 'business,”': 1, 'showing': 1, '“Just': 2, 'takes': 1, 'twenty-four': 1, 'hours': 3, 'turn': 3, 'axis—”': 1, '“Talking': 1, 'axes,”': 1, '“chop': 1, 'head!”': 4, 'glanced': 1, 'meant': 3, 'listening': 2, '“Twenty-four': 1, 'figures!”': 1, 'singing': 1, 'line': 1, 'roughly': 1, 'boy': 1, 'annoy': 1, 'CHORUS': 1, '“Wow': 2, 'wow': 2, 'wow!”': 2, 'howled': 1, 'beat': 1, 'sneezes': 1, 'pepper': 2, 'pleases!”': 1, 'flinging': 1, 'play': 2, 'threw': 1, 'frying-pan': 1, 'missed': 1, 'caught': 1, 'queer-shaped': 1, '“just': 1, 'star-fish,”': 1, 'straightening': 1, 'twist': 1, 'knot': 1, 'tight': 1, 'murder': 1, 'behind?”': 1, '“Don’t': 4, 'grunt,”': 1, '“that’s': 1, 'proper': 1, 'doubt': 1, 'extremely': 1, 'sobbing,”': 1, 'seriously': 1, '“I’ll': 2, 'Mind': 1, 'alarm': 1, 'pig': 2, 'carry': 1, 'trot': 1, 'up,”': 1, 'handsome': 1, 'think.”': 1, '“if': 2, 'them—”': 1, 'yards': 1, 'Cat': 7, 'good-natured': 1, 'ought': 5, 'treated': 1, 'respect': 1, '“Cheshire': 1, 'Puss,”': 1, 'wider': 1, 'far,”': 1, 'enough.”': 1, 'denied': 1, 'Hatter': 30, 'direction,”': 1, 'waving': 1, '“lives': 1, 'You’re': 1, 'mad.”': 1, 'mad?”': 1, 'be,”': 1, 'here.”': 1, 'proved': 1, 'wags': 1, 'Now': 1, 'growl': 1, 'to-day?”': 1, 'invited': 1, 'happening': 1, 'While': 2, 'place': 3, 'ask.”': 1, 'pig,”': 1, 'appear': 2, 'March': 15, 'Hare': 15, 'March.”': 1, 'vanishing': 1, 'giddy.”': 1, '“All': 1, 'gone': 4, 'often': 3, 'grin,”': 1, 'towards': 1, 'instead!”': 1, 'Mad': 1, 'Tea-Party': 1, 'tea': 4, 'Dormouse': 16, 'cushion': 1, 'resting': 2, 'elbows': 1, '“Very': 1, 'mind.”': 1, 'plenty': 1, 'room!”': 1, 'wine,”': 1, 'remarked': 6, 'isn’t': 3, 'any,”': 1, '“Then': 4, 'wasn’t': 6, 'civil': 3, 'angrily': 5, 'invited,”': 1, 'three.”': 1, '“Your': 1, 'wants': 1, 'cutting,”': 1, 'speech': 1, 'learn': 2, 'personal': 1, 'remarks,”': 1, '“Why': 6, 'raven': 1, 'writing-desk?”': 1, 'fun': 1, 'now!”': 1, 'they’ve': 1, '“Exactly': 2, 'so,”': 4, 'mean,”': 2, '“at': 1, 'least—at': 1, '‘I': 4, 'eat’': 1, 'see’!”': 1, 'say,”': 2, '“that': 3, 'sleep': 1, 'breathe': 1, 'sleep’': 1, 'dropped': 2, 'writing-desks': 1, 'break': 1, 'month': 1, 'uneasily': 1, 'shaking': 1, 'works!”': 1, 'butter,”': 1, 'meekly': 2, '“Yes': 3, 'crumbs': 1, 'well,”': 2, 'grumbled': 1, 'cup': 1, 'know.”': 2, 'shoulder': 1, 'curiosity': 2, 'o’clock': 3, 'is!”': 1, '“Does': 1, 'watch': 1, 'stays': 1, 'year': 1, 'together.”': 1, '“Which': 1, 'case': 1, 'mine_,”': 1, 'dreadfully': 2, 'Hatter’s': 1, 'asleep': 3, 'again,”': 1, 'poured': 1, 'myself.”': 1, '“Have': 2, 'guessed': 1, 'riddle': 1, 'yet?”': 1, 'turning': 3, '“than': 1, 'waste': 1, 'riddles': 1, 'wasting': 1, 'It’s': 3, 'him_.”': 1, 'don’t!”': 1, 'tossing': 1, 'music.”': 2, 'accounts': 1, '“He': 3, 'stand': 1, 'clock': 2, 'instance': 2, 'hint': 1, 'Time': 1, 'twinkling': 4, 'Half-past': 1, 'hungry': 2, 'perhaps,”': 1, 'quarrelled': 1, 'March—just': 1, 'mad': 2, 'know—”': 2, 'pointing': 2, 'given': 1, 'Hearts': 2, 'sing': 1, '‘Twinkle': 1, 'twinkle': 3, 'bat': 1, 'You': 2, 'song': 1, 'perhaps?”': 1, '“in': 1, 'way:—': 1, '‘Up': 1, 'fly': 2, 'Twinkle': 1, 'twinkle—’”': 1, '“_Twinkle': 1, 'twinkle_—”': 1, 'jumped': 2, 'bawled': 1, '‘He’s': 1, 'murdering': 1, 'Off': 1, 'six': 1, 'now.”': 2, 'we’ve': 1, 'wash': 2, 'between': 1, 'whiles.”': 1, 'suppose?”': 1, '“as': 2, 'up.”': 1, 'again?”': 2, 'ventured': 2, 'vote': 1, 'young': 2, 'lady': 2, 'tells': 1, 'story.”': 1, 'one,”': 1, 'alarmed': 1, 'pinched': 1, 'asleep,”': 1, 'done.”': 1, '“Once': 1, 'sisters,”': 1, 'lived': 1, 'bottom': 2, 'well—”': 1, 'on?”': 2, 'interest': 1, 'couldn’t': 4, 'gently': 1, 'living': 1, 'more.”': 1, 'less_,”': 1, 'bread-and-butter': 4, 'treacle-well.”': 1, 'thing!”': 3, 'dare': 3, 'may': 1, 'one_.”': 1, 'consented': 1, 'draw?”': 1, 'promise': 1, '“Treacle,”': 1, 'considering': 1, 'clean': 1, 'cup,”': 1, 'interrupted': 5, '“let’s': 1, 'Dormouse’s': 1, 'unwillingly': 1, 'advantage': 1, 'worse': 1, 'cautiously': 2, 'Where': 1, 'draw': 2, 'treacle': 2, 'treacle-well—eh': 1, 'stupid?”': 1, 'choosing': 1, 'interrupting': 1, 'learning': 1, 'draw,”': 1, 'yawning': 1, 'rubbing': 1, 'things—everything': 1, 'begins': 4, 'M—”': 1, 'M?”': 1, 'not?”': 1, 'closed': 1, 'shriek': 1, '“—that': 1, 'M': 1, '“much': 1, 'muchness”—did': 1, 'talk,”': 1, 'piece': 4, 'rudeness': 1, 'bear': 1, 'neither': 1, 'others': 3, 'notice': 1, 'though': 5, 'stupidest': 1, 'tea-party': 1, 'leading': 1, 'curious!”': 1, 'Once': 1, 'taking': 3, 'unlocking': 1, 'beautiful': 4, 'flower-beds': 1, 'VIII': 1, 'rose-tree': 2, 'entrance': 1, 'roses': 2, 'painting': 1, 'red': 1, '“Look': 1, 'Five': 4, 'splashing': 1, 'paint': 1, 'elbow.”': 1, 'Seven': 2, 'Always': 1, 'deserved': 1, 'beheaded!”': 1, 'for?”': 1, 'spoken': 1, 'business': 1, 'Two!”': 1, 'business!”': 2, 'him—it': 1, 'things—”': 1, 'chanced': 1, 'watching': 2, '“why': 1, 'Miss': 1, 'across': 2, 'themselves': 1, 'flat': 2, 'faces': 3, 'sound': 2, 'gardeners': 4, 'oblong': 1, 'diamonds': 1, 'soldiers': 5, 'these': 2, 'jumping': 2, 'merrily': 1, 'couples': 1, 'recognised': 1, 'noticing': 1, 'Knave': 2, 'carrying': 1, 'procession': 2, 'THE': 1, 'KING': 1, 'AND': 1, 'QUEEN': 1, 'OF': 1, 'HEARTS': 1, 'doubtful': 1, 'whether': 2, 'lie': 1, 'rule': 2, 'processions': 1, 'besides': 1, 'this?”': 1, '“What’s': 1, 'child?”': 1, '“My': 1, 'Majesty,”': 2, 'needn’t': 1, 'these?_”': 1, 'pattern': 1, 'backs': 1, 'courtiers': 1, 'know?”': 2, 'wild': 1, 'beast': 1, '“Off': 3, 'Off—”': 1, '“Nonsense!”': 1, 'child!”': 1, '“Turn': 1, 'bowing': 1, 'King': 16, 'knee': 1, '“we': 3, 'trying—”': 1, '“_I': 1, 'see!”': 1, 'meanwhile': 1, 'examining': 1, 'remaining': 1, 'execute': 1, 'unfortunate': 1, 'flower-pot': 1, 'wandered': 1, 'off?”': 1, '“Their': 1, 'Majesty!”': 1, 'evidently': 1, '“Yes!”': 1, 'then!”': 1, 'roared': 1, 'joined': 1, 'peeping': 1, '“Very,”': 1, '“—where’s': 1, 'Duchess?”': 1, '“Hush': 1, 'Hush!”': 1, 'whispered': 2, '“She’s': 1, '‘What': 1, 'for?’”': 1, '“She': 2, 'boxed': 1, 'Queen’s': 2, 'ears—”': 1, 'running': 1, 'tumbling': 1, 'croquet-ground': 1, 'hedgehogs': 3, 'mallets': 1, 'flamingoes': 1, 'double': 1, 'body': 1, 'tucked': 2, 'comfortably': 1, 'neck': 1, 'nicely': 1, 'straightened': 1, 'give': 2, 'expression': 1, 'begin': 3, 'provoking': 1, 'hedgehog': 2, 'ridge': 1, 'furrow': 1, 'wherever': 1, 'parts': 1, 'ground': 2, 'fighting': 1, 'shouting': 1, 'dispute': 1, 'fond': 1, 'beheading': 1, 'to.”': 1, '“till': 1, 'ears': 1, 'flamingo': 2, 'account': 1, 'fairly,”': 1, 'oneself': 1, 'speak—and': 1, 'confusing': 1, 'alive': 1, 'ground—and': 1, 'croqueted': 1, 'Cat’s': 2, 'friend': 2, 'mine—a': 1, 'Cat,”': 1, '“allow': 1, 'kiss': 1, 'likes.”': 1, '“I’d': 1, 'not,”': 1, 'impertinent,”': 1, 'where.”': 1, 'removed,”': 1, 'removed!”': 1, 'settling': 1, 'difficulties': 1, 'passion': 1, 'players': 1, 'excellent': 1, 'croqueting': 1, 'ground.”': 1, 'When': 1, 'executioner': 3, 'arguments': 1, 'executioner’s': 1, 'unless': 1, 'King’s': 1, 'less': 1, 'she’d': 1, 'anxious': 2, 'belongs': 1, 'arrow': 1, 'fading': 1, 'wildly': 1, 'IX': 1, 'pleasant': 1, 'met': 1, '“When': 2, 'Duchess,”': 1, 'hopeful': 1, 'without—Maybe': 1, 'vinegar': 1, 'sour—and': 1, 'camomile': 1, 'sweet-tempered': 1, 'startled': 1, 'moral': 3, 'squeezed': 1, 'closer': 1, 'ugly': 1, 'uncomfortably': 1, 'rude': 1, '“’Tis': 1, 'is—‘Oh': 1, '’tis': 1, 'love': 1, 'means': 1, 'digging': 1, 'is—‘Take': 1, 'care': 2, 'sounds': 2, 'waist,”': 1, 'Shall': 1, 'experiment?”': 1, 'bite,”': 1, 'is—‘Birds': 1, 'feather': 1, 'flock': 1, 'together.’”': 1, '“Only': 1, 'mustard': 1, 'bird,”': 1, '“Right': 1, 'usual,”': 1, '“what': 1, '“there’s': 1, 'mustard-mine': 1, 'yours.’”': 1, 'exclaimed': 2, 'attended': 1, 'is—‘Be': 1, 'be’—or': 1, 'otherwise.’”': 1, 'better,”': 1, '“Pray': 1, 'yourself': 2, 'longer': 1, 'that,”': 3, 'yet.”': 1, '“A': 1, 'cheap': 1, 'present!”': 1, '“Thinking': 1, 'dig': 1, 'worried': 1, 'pigs': 1, 'favourite': 1, '‘moral,’': 1, 'front': 1, 'frowning': 1, '“either': 1, 'shade': 1, 'cost': 1, 'All': 2, 'quarrelling': 1, 'Those': 1, 'whom': 1, 'sentenced': 1, 'custody': 1, 'hour': 1, 'arches': 1, 'execution': 1, 'breath': 1, 'company': 1, 'pardoned.”': 1, 'executions': 2, 'Gryphon': 24, 'fast': 3, 'sun': 1, 'If': 1, 'Mock': 23, 'ordered;”': 1, 'leaving': 1, 'chuckled': 1, 'fun!”': 1, 'executes': 1, 'nobody': 1, 'on!”': 4, '“Everybody': 1, '‘come': 1, 'on!’': 1, 'sad': 1, 'lonely': 1, 'ledge': 1, 'rock': 1, 'pitied': 1, 'sorrow?”': 1, 'hasn’t': 1, 'sorrow': 1, 'Turtle': 20, 'do.”': 1, 'her,”': 1, 'deep': 2, 'hollow': 1, '“sit': 1, 'begin.”': 1, 'Turtle.”': 1, 'These': 1, 'heavy': 1, 'sobbing': 2, 'school': 3, '“really': 1, 'dull!”': 1, 'ashamed': 1, 'sink': 1, 'mayn’t': 1, 'believe': 2, 'it—”': 1, 'didn’t!”': 2, '“Hold': 1, 'tongue!”': 1, 'proud': 2, 'that.”': 2, '“With': 1, 'extras?”': 1, '“Yes,”': 2, 'learned': 1, 'washing?”': 1, '“Certainly': 1, 'not!”': 1, 'yours': 1, 'really': 2, 'school,”': 1, '‘French': 1, 'music': 1, 'washing_—extra.’”': 1, '“living': 1, 'regular': 1, 'course.”': 1, 'inquired': 1, '“Reeling': 1, 'Writhing': 1, 'with,”': 1, 'Distraction': 1, 'Uglification': 1, 'Derision.”': 1, '‘Uglification,’”': 1, 'lifted': 1, 'surprise': 1, 'Never': 1, 'simpleton.”': 1, 'encouraged': 1, 'subjects': 1, 'flappers': 1, '“—Mystery': 1, 'ancient': 1, 'modern': 1, 'week': 1, 'Drawling': 1, 'Stretching': 1, 'stiff': 1, 'learnt': 1, '“Hadn’t': 1, 'Classics': 1, 'Laughing': 1, 'Grief': 1, 'subject': 1, '“Ten': 1, 'day,”': 1, '“nine': 1, '“because': 2, 'lessen': 1, 'day.”': 1, 'holiday?”': 1, 'was,”': 2, 'twelfth?”': 1, 'lessons,”': 1, 'X': 1, 'flapper': 1, 'sobs': 1, 'choked': 2, '“Same': 1, 'bone': 1, 'throat,”': 1, 'recovered': 1, 'Alice)—“and': 1, 'introduced': 1, 'lobster—”': 1, 'never”': 1, '“—so': 1, 'delightful': 2, 'sea-shore—”': 1, '“Two': 1, 'lines!”': 1, '“Seals': 1, 'turtles': 1, 'salmon': 1, '“Change': 1, 'lobsters': 2, 'yelled': 1, '“Back': 1, 'land': 1, 'figure,”': 1, 'sing?”': 1, 'sing,”': 1, 'words.”': 1, 'dancing': 1, 'forepaws': 1, 'mark': 2, 'sang': 1, 'porpoise': 1, 'he’s': 1, 'treading': 1, 'shingle—will': 1, 'join': 5, 'dance': 4, 'Will': 2, 'snail': 2, '“Too': 1, 'far!”': 1, 'askance—': 1, 'pale': 1, 'beloved': 1, 'dance?”': 1, 'course?”': 1, 'dinn—”': 1, 'checked': 1, 'like.”': 1, 'tails': 3, 'mouths': 2, 'eyes.—“Tell': 1, 'is,”': 1, 'whiting': 1, 'before.”': 1, 'like,”': 1, 'shoes': 3, 'with?”': 1, '“They’re': 2, 'blacking': 1, 'believe.”': 1, '“Boots': 1, 'sea,”': 1, '“any': 1, 'shrimp': 1, 'told': 2, 'whiting,”': 1, 'thoughts': 2, 'us!’”': 1, 'obliged': 1, '“no': 1, 'journey': 1, '‘With': 1, 'porpoise?’”': 1, '‘purpose’?”': 1, '“explanations': 1, 'dreadful': 1, 'time.”': 1, 'adventures': 1, 'listeners': 1, 'part': 1, '“Stand': 1, '‘’_Tis': 1, 'sluggard_,’”': 1, 'once.”': 1, 'Quadrille': 1, 'baked': 1, 'brown': 1, 'sugar': 1, 'hair.”': 1, 'Trims': 1, 'belt': 1, 'buttons': 1, 'turns': 1, 'toes.”': 1, 'later': 2, 'editions': 2, 'follows': 2, 'contemptuous': 1, 'tones': 1, 'Shark': 1, 'His': 1, 'tremulous': 1, 'before,”': 1, 'natural': 1, 'explained,”': 1, '“Go': 1, 'position': 1, 'dancing.”': 1, '‘_I': 1, 'passed': 1, 'garden_.’”': 1, 'disobey': 1, 'Owl': 2, 'Panther': 1, 'sharing': 1, 'pie—”': 1, 'dish': 2, 'share': 1, 'treat': 1, 'Was': 1, 'kindly': 1, 'permitted': 1, 'spoon': 1, 'banquet—': 1, '“Shall': 1, 'figure': 1, 'Lobster': 1, 'Quadrille?”': 1, 'fellow?”': 1, 'Waiting': 1, 'tureen': 1, 'Soup': 3, 'evening': 1, 'Beau—ootiful': 2, 'Soo—oop': 4, 'e—e—evening': 2, 'Game': 1, 'ennyworth': 1, '“Chorus': 1, 'faster': 1, 'faintly': 1, 'Beautiful': 1, 'Soup!”': 1, 'Stole': 1, 'Tarts': 1, 'arrived': 1, 'crowd': 1, 'assembled': 1, 'them—all': 1, 'standing': 1, 'chains': 1, 'soldier': 1, 'guard': 1, 'scroll': 1, 'parchment': 1, 'In': 1, 'them—“I': 1, 'they’d': 1, 'books': 1, 'wig.”': 1, 'wore': 1, 'crown': 1, 'comfortable': 1, 'becoming': 1, 'jury-box,”': 1, 'twelve': 2, 'creatures,”': 1, 'jurors.”': 1, 'rightly': 1, 'jurors': 2, 'writing': 1, 'busily': 1, 'slates': 1, 'trial’s': 2, 'begun.”': 1, 'putting': 1, 'names,”': 1, 'stopped': 1, '“Silence': 1, 'shoulders': 1, 'spell': 1, 'muddle': 1, 'slates’ll': 1, 'One': 1, 'pencil': 1, 'squeaked': 1, 'quickly': 1, 'slate': 1, '“Herald': 1, 'read': 1, 'accusation!”': 1, 'blew': 2, 'blasts': 1, 'trumpet': 1, 'summer': 1, 'away!”': 1, '“Call': 1, 'witness,”': 1, 'pardon': 1, 'sent': 1, 'for.”': 1, 'finished,”': 1, 'begin?”': 1, '“Fifteenth,”': 1, '“Sixteenth,”': 1, '“Write': 1, 'down,”': 1, 'jury': 4, 'reduced': 1, 'shillings': 1, 'pence': 1, '“Take': 1, 'hat,”': 1, 'mine,”': 1, '“_Stolen!_”': 1, 'hatter.”': 1, 'Here': 1, 'spectacles': 1, 'spot.”': 1, 'encourage': 1, 'witness': 1, 'shifting': 1, 'teacup': 2, 'instead': 1, 'court': 3, 'remain': 1, 'breathe.”': 1, 'growing.”': 1, '“You’ve': 1, 'here_,”': 1, 'nonsense,”': 1, 'boldly': 1, 'ridiculous': 1, 'fashion.”': 1, 'sulkily': 1, 'crossed': 2, 'officers': 2, 'wretched': 1, 'trembled': 1, 'man': 1, 'thin—and': 1, 'tea—”': 1, 'tea,”': 1, 'T!”': 1, 'that—only': 1, 'said—”': 2, 'did!”': 1, 'deny': 1, 'denies': 1, '“leave': 1, 'part.”': 1, '“After': 1, 'bread-and-butter—”': 1, 'say?”': 1, 'remember,”': 2, 'executed.”': 1, 'miserable': 1, 'strings': 1, 'slipped': 1, 'guinea-pig': 1, 'newspapers': 1, 'trials': 1, 'attempts': 1, 'court,”': 1, 'understood': 1}"
     ]
    }
   ],
   "source": [
    "print(common_dict, end = '')"
   ]
  },
  {
   "cell_type": "code",
   "execution_count": null,
   "metadata": {
    "colab": {
     "base_uri": "https://localhost:8080/"
    },
    "id": "6thtYE-xH9wg",
    "outputId": "4839cc46-cb58-4896-e26d-2f10c585247b"
   },
   "outputs": [
    {
     "data": {
      "text/plain": [
       "[('the', 136),\n",
       " ('she', 107),\n",
       " ('to', 93),\n",
       " ('and', 91),\n",
       " ('it', 65),\n",
       " ('was', 64),\n",
       " ('a', 63),\n",
       " ('of', 56),\n",
       " ('i', 42),\n",
       " ('in', 37),\n",
       " ('her', 36),\n",
       " ('alice', 33),\n",
       " ('that', 29),\n",
       " ('down', 27),\n",
       " ('for', 26),\n",
       " ('very', 25),\n",
       " ('on', 24),\n",
       " ('as', 24),\n",
       " ('but', 23),\n",
       " ('you', 23),\n",
       " ('little', 22),\n",
       " ('had', 20),\n",
       " ('be', 20),\n",
       " ('all', 19),\n",
       " ('so', 18)]"
      ]
     },
     "execution_count": 318,
     "metadata": {},
     "output_type": "execute_result"
    }
   ],
   "source": [
    "print "
   ]
  },
  {
   "cell_type": "markdown",
   "metadata": {
    "id": "dnSpE4-elByQ"
   },
   "source": [
    "---\n",
    "### 11. What are the 25 most frequent words?"
   ]
  },
  {
   "cell_type": "code",
   "execution_count": 136,
   "metadata": {
    "id": "V62gHcL1ufqK"
   },
   "outputs": [],
   "source": [
    "#############################################################\n",
    "# TO DO\n",
    "# # Get the most frequent words in the list.\n",
    "#############################################################\n",
    "# Type your code below this line\n",
    "from collections import Counter\n",
    "Counter = Counter(string_lst2)\n",
    "txt_list=Counter.most_common(25)"
   ]
  },
  {
   "cell_type": "code",
   "execution_count": 139,
   "metadata": {},
   "outputs": [
    {
     "name": "stdout",
     "output_type": "stream",
     "text": [
      "[('the', 624), ('and', 322), ('to', 295), ('a', 274), ('she', 232), ('of', 215), ('it', 197), ('said', 183), ('Alice', 172), ('was', 167), ('in', 155), ('you', 136), ('I', 128), ('that', 125), ('her', 102), ('as', 99), ('at', 96), ('on', 74), ('little', 67), ('be', 67), ('with', 65), ('all', 65), ('very', 63), ('had', 63), ('out', 53)]"
     ]
    }
   ],
   "source": [
    "print(txt_list, end = '')"
   ]
  },
  {
   "cell_type": "markdown",
   "metadata": {
    "id": "2d5yMn_V6nGB"
   },
   "source": [
    "#### Hints:"
   ]
  },
  {
   "cell_type": "markdown",
   "metadata": {
    "id": "VgyrMSgT6U8r"
   },
   "source": [
    "* Python >= 3.6 supports ordered dictionaries, so there is no need to convert to a list of tuples before sorting.\n",
    "* Look up the `Counter` container in the `collections` module in the [Python docs](https://docs.python.org/3/library/collections.html#collections.Counter)."
   ]
  },
  {
   "cell_type": "markdown",
   "metadata": {
    "id": "aOFFmvAC6--N"
   },
   "source": [
    "\n",
    "---\n",
    "#### This is the end of this notebook\n",
    "\n",
    "\n"
   ]
  }
 ],
 "metadata": {
  "colab": {
   "collapsed_sections": [
    "CHWe4GdSoOAd",
    "B99yzJaJom24",
    "40T7EUhKo3uI",
    "lTrgIRNmpQZA",
    "5CddBuKbqLOP",
    "yNzM9uEXtPgV",
    "PZnNKX62tdHS",
    "u4QPTgQgVRLl",
    "6Ge6sfS-tnDd",
    "pmflXPVBt975",
    "2d5yMn_V6nGB"
   ],
   "provenance": []
  },
  "kernelspec": {
   "display_name": "Python 3 (ipykernel)",
   "language": "python",
   "name": "python3"
  },
  "language_info": {
   "codemirror_mode": {
    "name": "ipython",
    "version": 3
   },
   "file_extension": ".py",
   "mimetype": "text/x-python",
   "name": "python",
   "nbconvert_exporter": "python",
   "pygments_lexer": "ipython3",
   "version": "3.10.9"
  }
 },
 "nbformat": 4,
 "nbformat_minor": 1
}
